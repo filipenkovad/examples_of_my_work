{
 "cells": [
  {
   "cell_type": "markdown",
   "id": "5aebc7b7",
   "metadata": {
    "execution": {
     "iopub.execute_input": "2021-11-14T06:55:42.692151Z",
     "iopub.status.busy": "2021-11-14T06:55:42.691838Z",
     "iopub.status.idle": "2021-11-14T06:55:42.701363Z",
     "shell.execute_reply": "2021-11-14T06:55:42.700465Z",
     "shell.execute_reply.started": "2021-11-14T06:55:42.692117Z"
    },
    "papermill": {
     "duration": 0.041639,
     "end_time": "2021-11-16T16:48:52.766787",
     "exception": false,
     "start_time": "2021-11-16T16:48:52.725148",
     "status": "completed"
    },
    "tags": []
   },
   "source": [
    "# Задание по Data Quality\n",
    "\n",
    "## Agenda:\n",
    "- We are working in the IT department of the NY city hall.\n",
    "- We are receiving csv-files with the parking violations from the Police.\n",
    "- **We need to know if the data is correct and if not - make the corrections.**\n",
    "- We are working with the following data - https://www.kaggle.com/new-york-city/nyc-parking-tickets\n",
    "\n",
    "**TASK 1**\n",
    "\n",
    "Explore Data Quality dimensions of the data. Name it correctly according to DAMA-DMBOK (Please review DAMA BOOK page 458-459)\n",
    "Hint: DAMA-DMBOK can be found in additional materials.\n",
    "Also additionally please see: https://www.cdc.gov/ncbddd/hearingloss/documents/dataqualityworksheet.pdf\n",
    "\n",
    "In 2013, DAMA UK produced a white paper describing six core dimensions of data quality:\n",
    "- **Completeness**: The proportion of data stored against the potential for 100%.\n",
    "- **Uniqueness**: No entity instance (thing) will be recorded more than once based upon how that thing is\n",
    "identified.\n",
    "- **Timeliness**: The degree to which data represent reality from the required point in time.\n",
    "- **Validity**: Data is valid if it conforms to the syntax (format, type, range) of its definition.\n",
    "- **Accuracy**: The degree to which data correctly describes the ‘real world’ object or event being\n",
    "described.\n",
    "- **Consistency**: The absence of difference, when comparing two or more representations of a thing\n",
    "against a definition.\n",
    "\n",
    "**Dimension 1** (Compliteness)\n",
    "1. The numbers of houses exist for every row.\n",
    "2. \"Registration state\" exist for every row as two letters (example “CA”).\n",
    "\n",
    "**Dimension 2** (Timeliness)\n",
    "1. We do not need data from any year but 2017.\n",
    "\n",
    "**Dimension 3**  (Consistency)\n",
    "1. House where violation was captured is present;\n",
    "2. \"Violation description\" should exist.\n",
    "\n",
    "**Dimension 4** (Uniqness)\n",
    "1. No double rows, no duplicates.\n",
    "\n",
    "**Dimension 5** (Validity)\n",
    "1. Data types are as described by business:\n",
    "Numbers: Summons Number, Violation Code, Street Code1, Street Code2, Street Code3, Vehicle Expiration Date, Violation Precinct, Issuer Precinct, Issuer Code, Date First Observed, Law Section, Vehicle Year, Feet From Curb;\n",
    "Date & Time: Issue Date;\n",
    "Plain text: all the rest columns.\n",
    "Additionally: Check for outliers (deviations);\n",
    "\n",
    "**Dimension 6** (Accuracy)\n",
    "1. The numbers of houses are real."
   ]
  },
  {
   "cell_type": "markdown",
   "id": "cc02e680",
   "metadata": {
    "papermill": {
     "duration": 0.039525,
     "end_time": "2021-11-16T16:48:52.846539",
     "exception": false,
     "start_time": "2021-11-16T16:48:52.807014",
     "status": "completed"
    },
    "tags": []
   },
   "source": [
    "## TASK 1.\n",
    "\n",
    "We will use Parking_Violations_Issued_-_Fiscal_Year_2017.csv because we are interested in data collected during 2017 year only."
   ]
  },
  {
   "cell_type": "code",
   "execution_count": 1,
   "id": "1e25a9da",
   "metadata": {
    "execution": {
     "iopub.execute_input": "2021-11-16T16:48:52.931162Z",
     "iopub.status.busy": "2021-11-16T16:48:52.929956Z",
     "iopub.status.idle": "2021-11-16T16:48:52.940331Z",
     "shell.execute_reply": "2021-11-16T16:48:52.940928Z",
     "shell.execute_reply.started": "2021-11-16T16:18:37.045238Z"
    },
    "papermill": {
     "duration": 0.054992,
     "end_time": "2021-11-16T16:48:52.941293",
     "exception": false,
     "start_time": "2021-11-16T16:48:52.886301",
     "status": "completed"
    },
    "tags": []
   },
   "outputs": [],
   "source": [
    "# Import modules\n",
    "import pandas as pd\n",
    "import os\n",
    "import warnings\n",
    "warnings.filterwarnings('ignore')"
   ]
  },
  {
   "cell_type": "code",
   "execution_count": 2,
   "id": "d13b8b40",
   "metadata": {
    "execution": {
     "iopub.execute_input": "2021-11-16T16:48:53.025091Z",
     "iopub.status.busy": "2021-11-16T16:48:53.024450Z",
     "iopub.status.idle": "2021-11-16T16:52:19.597410Z",
     "shell.execute_reply": "2021-11-16T16:52:19.596691Z",
     "shell.execute_reply.started": "2021-11-16T16:18:37.053978Z"
    },
    "papermill": {
     "duration": 206.615932,
     "end_time": "2021-11-16T16:52:19.597628",
     "exception": false,
     "start_time": "2021-11-16T16:48:52.981696",
     "status": "completed"
    },
    "tags": []
   },
   "outputs": [],
   "source": [
    "# Read data from file and convert columns in appropriate format according to the business description\n",
    "df = pd.read_csv('/kaggle/input/nyc-parking-tickets/Parking_Violations_Issued_-_Fiscal_Year_2017.csv', \n",
    "                 low_memory=False, dtype='object',\n",
    "                 converters={'Summons Number': int, 'Violation Code': int, \n",
    "                        'Street Code1': int, 'Street Code2': int, \n",
    "                         'Street Code3': int, 'Vehicle Expiration Date': int, \n",
    "                         'Violation Precinct': int, 'Issuer Precinct': int, \n",
    "                         'Issuer Code': int, 'Date First Observed': int, \n",
    "                         'Law Section': int, 'Vehicle Year': int, \n",
    "                         'Feet From Curb': int, 'Issue Date': str}, \n",
    "                         parse_dates=['Issue Date'])"
   ]
  },
  {
   "cell_type": "markdown",
   "id": "a50d662f",
   "metadata": {
    "papermill": {
     "duration": 0.039664,
     "end_time": "2021-11-16T16:52:19.678676",
     "exception": false,
     "start_time": "2021-11-16T16:52:19.639012",
     "status": "completed"
    },
    "tags": []
   },
   "source": [
    "### Exploratory Data Analysis"
   ]
  },
  {
   "cell_type": "code",
   "execution_count": 3,
   "id": "6d55f0ce",
   "metadata": {
    "execution": {
     "iopub.execute_input": "2021-11-16T16:52:19.828412Z",
     "iopub.status.busy": "2021-11-16T16:52:19.826645Z",
     "iopub.status.idle": "2021-11-16T16:52:19.852428Z",
     "shell.execute_reply": "2021-11-16T16:52:19.852932Z",
     "shell.execute_reply.started": "2021-11-16T16:22:22.344903Z"
    },
    "papermill": {
     "duration": 0.134356,
     "end_time": "2021-11-16T16:52:19.853096",
     "exception": false,
     "start_time": "2021-11-16T16:52:19.718740",
     "status": "completed"
    },
    "tags": []
   },
   "outputs": [
    {
     "data": {
      "text/html": [
       "<div>\n",
       "<style scoped>\n",
       "    .dataframe tbody tr th:only-of-type {\n",
       "        vertical-align: middle;\n",
       "    }\n",
       "\n",
       "    .dataframe tbody tr th {\n",
       "        vertical-align: top;\n",
       "    }\n",
       "\n",
       "    .dataframe thead th {\n",
       "        text-align: right;\n",
       "    }\n",
       "</style>\n",
       "<table border=\"1\" class=\"dataframe\">\n",
       "  <thead>\n",
       "    <tr style=\"text-align: right;\">\n",
       "      <th></th>\n",
       "      <th>0</th>\n",
       "      <th>1</th>\n",
       "      <th>2</th>\n",
       "      <th>3</th>\n",
       "      <th>4</th>\n",
       "    </tr>\n",
       "  </thead>\n",
       "  <tbody>\n",
       "    <tr>\n",
       "      <th>Summons Number</th>\n",
       "      <td>5092469481</td>\n",
       "      <td>5092451658</td>\n",
       "      <td>4006265037</td>\n",
       "      <td>8478629828</td>\n",
       "      <td>7868300310</td>\n",
       "    </tr>\n",
       "    <tr>\n",
       "      <th>Plate ID</th>\n",
       "      <td>GZH7067</td>\n",
       "      <td>GZH7067</td>\n",
       "      <td>FZX9232</td>\n",
       "      <td>66623ME</td>\n",
       "      <td>37033JV</td>\n",
       "    </tr>\n",
       "    <tr>\n",
       "      <th>Registration State</th>\n",
       "      <td>NY</td>\n",
       "      <td>NY</td>\n",
       "      <td>NY</td>\n",
       "      <td>NY</td>\n",
       "      <td>NY</td>\n",
       "    </tr>\n",
       "    <tr>\n",
       "      <th>Plate Type</th>\n",
       "      <td>PAS</td>\n",
       "      <td>PAS</td>\n",
       "      <td>PAS</td>\n",
       "      <td>COM</td>\n",
       "      <td>COM</td>\n",
       "    </tr>\n",
       "    <tr>\n",
       "      <th>Issue Date</th>\n",
       "      <td>2016-07-10 00:00:00</td>\n",
       "      <td>2016-07-08 00:00:00</td>\n",
       "      <td>2016-08-23 00:00:00</td>\n",
       "      <td>2017-06-14 00:00:00</td>\n",
       "      <td>2016-11-21 00:00:00</td>\n",
       "    </tr>\n",
       "    <tr>\n",
       "      <th>Violation Code</th>\n",
       "      <td>7</td>\n",
       "      <td>7</td>\n",
       "      <td>5</td>\n",
       "      <td>47</td>\n",
       "      <td>69</td>\n",
       "    </tr>\n",
       "    <tr>\n",
       "      <th>Vehicle Body Type</th>\n",
       "      <td>SUBN</td>\n",
       "      <td>SUBN</td>\n",
       "      <td>SUBN</td>\n",
       "      <td>REFG</td>\n",
       "      <td>DELV</td>\n",
       "    </tr>\n",
       "    <tr>\n",
       "      <th>Vehicle Make</th>\n",
       "      <td>TOYOT</td>\n",
       "      <td>TOYOT</td>\n",
       "      <td>FORD</td>\n",
       "      <td>MITSU</td>\n",
       "      <td>INTER</td>\n",
       "    </tr>\n",
       "    <tr>\n",
       "      <th>Issuing Agency</th>\n",
       "      <td>V</td>\n",
       "      <td>V</td>\n",
       "      <td>V</td>\n",
       "      <td>T</td>\n",
       "      <td>T</td>\n",
       "    </tr>\n",
       "    <tr>\n",
       "      <th>Street Code1</th>\n",
       "      <td>0</td>\n",
       "      <td>0</td>\n",
       "      <td>0</td>\n",
       "      <td>10610</td>\n",
       "      <td>10510</td>\n",
       "    </tr>\n",
       "    <tr>\n",
       "      <th>Street Code2</th>\n",
       "      <td>0</td>\n",
       "      <td>0</td>\n",
       "      <td>0</td>\n",
       "      <td>34330</td>\n",
       "      <td>34310</td>\n",
       "    </tr>\n",
       "    <tr>\n",
       "      <th>Street Code3</th>\n",
       "      <td>0</td>\n",
       "      <td>0</td>\n",
       "      <td>0</td>\n",
       "      <td>34350</td>\n",
       "      <td>34330</td>\n",
       "    </tr>\n",
       "    <tr>\n",
       "      <th>Vehicle Expiration Date</th>\n",
       "      <td>0</td>\n",
       "      <td>0</td>\n",
       "      <td>0</td>\n",
       "      <td>20180630</td>\n",
       "      <td>20170228</td>\n",
       "    </tr>\n",
       "    <tr>\n",
       "      <th>Violation Location</th>\n",
       "      <td>NaN</td>\n",
       "      <td>NaN</td>\n",
       "      <td>NaN</td>\n",
       "      <td>0014</td>\n",
       "      <td>0013</td>\n",
       "    </tr>\n",
       "    <tr>\n",
       "      <th>Violation Precinct</th>\n",
       "      <td>0</td>\n",
       "      <td>0</td>\n",
       "      <td>0</td>\n",
       "      <td>14</td>\n",
       "      <td>13</td>\n",
       "    </tr>\n",
       "    <tr>\n",
       "      <th>Issuer Precinct</th>\n",
       "      <td>0</td>\n",
       "      <td>0</td>\n",
       "      <td>0</td>\n",
       "      <td>14</td>\n",
       "      <td>13</td>\n",
       "    </tr>\n",
       "    <tr>\n",
       "      <th>Issuer Code</th>\n",
       "      <td>0</td>\n",
       "      <td>0</td>\n",
       "      <td>0</td>\n",
       "      <td>359594</td>\n",
       "      <td>364832</td>\n",
       "    </tr>\n",
       "    <tr>\n",
       "      <th>Issuer Command</th>\n",
       "      <td>NaN</td>\n",
       "      <td>NaN</td>\n",
       "      <td>NaN</td>\n",
       "      <td>T102</td>\n",
       "      <td>T102</td>\n",
       "    </tr>\n",
       "    <tr>\n",
       "      <th>Issuer Squad</th>\n",
       "      <td>NaN</td>\n",
       "      <td>NaN</td>\n",
       "      <td>NaN</td>\n",
       "      <td>J</td>\n",
       "      <td>M</td>\n",
       "    </tr>\n",
       "    <tr>\n",
       "      <th>Violation Time</th>\n",
       "      <td>0143A</td>\n",
       "      <td>0400P</td>\n",
       "      <td>0233P</td>\n",
       "      <td>1120A</td>\n",
       "      <td>0555P</td>\n",
       "    </tr>\n",
       "    <tr>\n",
       "      <th>Time First Observed</th>\n",
       "      <td>NaN</td>\n",
       "      <td>NaN</td>\n",
       "      <td>NaN</td>\n",
       "      <td>NaN</td>\n",
       "      <td>NaN</td>\n",
       "    </tr>\n",
       "    <tr>\n",
       "      <th>Violation County</th>\n",
       "      <td>BX</td>\n",
       "      <td>BX</td>\n",
       "      <td>BX</td>\n",
       "      <td>NY</td>\n",
       "      <td>NY</td>\n",
       "    </tr>\n",
       "    <tr>\n",
       "      <th>Violation In Front Of Or Opposite</th>\n",
       "      <td>NaN</td>\n",
       "      <td>NaN</td>\n",
       "      <td>NaN</td>\n",
       "      <td>O</td>\n",
       "      <td>F</td>\n",
       "    </tr>\n",
       "    <tr>\n",
       "      <th>House Number</th>\n",
       "      <td>NaN</td>\n",
       "      <td>NaN</td>\n",
       "      <td>NaN</td>\n",
       "      <td>330</td>\n",
       "      <td>799</td>\n",
       "    </tr>\n",
       "    <tr>\n",
       "      <th>Street Name</th>\n",
       "      <td>ALLERTON AVE (W/B) @</td>\n",
       "      <td>ALLERTON AVE (W/B) @</td>\n",
       "      <td>SB WEBSTER AVE @ E 1</td>\n",
       "      <td>7th Ave</td>\n",
       "      <td>6th Ave</td>\n",
       "    </tr>\n",
       "    <tr>\n",
       "      <th>Intersecting Street</th>\n",
       "      <td>BARNES AVE</td>\n",
       "      <td>BARNES AVE</td>\n",
       "      <td>94TH ST</td>\n",
       "      <td>NaN</td>\n",
       "      <td>NaN</td>\n",
       "    </tr>\n",
       "    <tr>\n",
       "      <th>Date First Observed</th>\n",
       "      <td>0</td>\n",
       "      <td>0</td>\n",
       "      <td>0</td>\n",
       "      <td>0</td>\n",
       "      <td>0</td>\n",
       "    </tr>\n",
       "    <tr>\n",
       "      <th>Law Section</th>\n",
       "      <td>1111</td>\n",
       "      <td>1111</td>\n",
       "      <td>1111</td>\n",
       "      <td>408</td>\n",
       "      <td>408</td>\n",
       "    </tr>\n",
       "    <tr>\n",
       "      <th>Sub Division</th>\n",
       "      <td>D</td>\n",
       "      <td>D</td>\n",
       "      <td>C</td>\n",
       "      <td>l2</td>\n",
       "      <td>h1</td>\n",
       "    </tr>\n",
       "    <tr>\n",
       "      <th>Violation Legal Code</th>\n",
       "      <td>T</td>\n",
       "      <td>T</td>\n",
       "      <td>T</td>\n",
       "      <td>NaN</td>\n",
       "      <td>NaN</td>\n",
       "    </tr>\n",
       "    <tr>\n",
       "      <th>Days Parking In Effect</th>\n",
       "      <td>NaN</td>\n",
       "      <td>NaN</td>\n",
       "      <td>NaN</td>\n",
       "      <td>Y</td>\n",
       "      <td>Y</td>\n",
       "    </tr>\n",
       "    <tr>\n",
       "      <th>From Hours In Effect</th>\n",
       "      <td>NaN</td>\n",
       "      <td>NaN</td>\n",
       "      <td>NaN</td>\n",
       "      <td>0700A</td>\n",
       "      <td>0700A</td>\n",
       "    </tr>\n",
       "    <tr>\n",
       "      <th>To Hours In Effect</th>\n",
       "      <td>NaN</td>\n",
       "      <td>NaN</td>\n",
       "      <td>NaN</td>\n",
       "      <td>0700P</td>\n",
       "      <td>0700P</td>\n",
       "    </tr>\n",
       "    <tr>\n",
       "      <th>Vehicle Color</th>\n",
       "      <td>GY</td>\n",
       "      <td>GY</td>\n",
       "      <td>BK</td>\n",
       "      <td>WH</td>\n",
       "      <td>WHITE</td>\n",
       "    </tr>\n",
       "    <tr>\n",
       "      <th>Unregistered Vehicle?</th>\n",
       "      <td>NaN</td>\n",
       "      <td>NaN</td>\n",
       "      <td>NaN</td>\n",
       "      <td>NaN</td>\n",
       "      <td>NaN</td>\n",
       "    </tr>\n",
       "    <tr>\n",
       "      <th>Vehicle Year</th>\n",
       "      <td>2001</td>\n",
       "      <td>2001</td>\n",
       "      <td>2004</td>\n",
       "      <td>2007</td>\n",
       "      <td>2007</td>\n",
       "    </tr>\n",
       "    <tr>\n",
       "      <th>Meter Number</th>\n",
       "      <td>NaN</td>\n",
       "      <td>NaN</td>\n",
       "      <td>NaN</td>\n",
       "      <td>NaN</td>\n",
       "      <td>NaN</td>\n",
       "    </tr>\n",
       "    <tr>\n",
       "      <th>Feet From Curb</th>\n",
       "      <td>0</td>\n",
       "      <td>0</td>\n",
       "      <td>0</td>\n",
       "      <td>0</td>\n",
       "      <td>0</td>\n",
       "    </tr>\n",
       "    <tr>\n",
       "      <th>Violation Post Code</th>\n",
       "      <td>NaN</td>\n",
       "      <td>NaN</td>\n",
       "      <td>NaN</td>\n",
       "      <td>04</td>\n",
       "      <td>31 6</td>\n",
       "    </tr>\n",
       "    <tr>\n",
       "      <th>Violation Description</th>\n",
       "      <td>FAILURE TO STOP AT RED LIGHT</td>\n",
       "      <td>FAILURE TO STOP AT RED LIGHT</td>\n",
       "      <td>BUS LANE VIOLATION</td>\n",
       "      <td>47-Double PKG-Midtown</td>\n",
       "      <td>69-Failure to Disp Muni Recpt</td>\n",
       "    </tr>\n",
       "    <tr>\n",
       "      <th>No Standing or Stopping Violation</th>\n",
       "      <td>NaN</td>\n",
       "      <td>NaN</td>\n",
       "      <td>NaN</td>\n",
       "      <td>NaN</td>\n",
       "      <td>NaN</td>\n",
       "    </tr>\n",
       "    <tr>\n",
       "      <th>Hydrant Violation</th>\n",
       "      <td>NaN</td>\n",
       "      <td>NaN</td>\n",
       "      <td>NaN</td>\n",
       "      <td>NaN</td>\n",
       "      <td>NaN</td>\n",
       "    </tr>\n",
       "    <tr>\n",
       "      <th>Double Parking Violation</th>\n",
       "      <td>NaN</td>\n",
       "      <td>NaN</td>\n",
       "      <td>NaN</td>\n",
       "      <td>NaN</td>\n",
       "      <td>NaN</td>\n",
       "    </tr>\n",
       "  </tbody>\n",
       "</table>\n",
       "</div>"
      ],
      "text/plain": [
       "                                                              0  \\\n",
       "Summons Number                                       5092469481   \n",
       "Plate ID                                                GZH7067   \n",
       "Registration State                                           NY   \n",
       "Plate Type                                                  PAS   \n",
       "Issue Date                                  2016-07-10 00:00:00   \n",
       "Violation Code                                                7   \n",
       "Vehicle Body Type                                          SUBN   \n",
       "Vehicle Make                                              TOYOT   \n",
       "Issuing Agency                                                V   \n",
       "Street Code1                                                  0   \n",
       "Street Code2                                                  0   \n",
       "Street Code3                                                  0   \n",
       "Vehicle Expiration Date                                       0   \n",
       "Violation Location                                          NaN   \n",
       "Violation Precinct                                            0   \n",
       "Issuer Precinct                                               0   \n",
       "Issuer Code                                                   0   \n",
       "Issuer Command                                              NaN   \n",
       "Issuer Squad                                                NaN   \n",
       "Violation Time                                            0143A   \n",
       "Time First Observed                                         NaN   \n",
       "Violation County                                             BX   \n",
       "Violation In Front Of Or Opposite                           NaN   \n",
       "House Number                                                NaN   \n",
       "Street Name                                ALLERTON AVE (W/B) @   \n",
       "Intersecting Street                                  BARNES AVE   \n",
       "Date First Observed                                           0   \n",
       "Law Section                                                1111   \n",
       "Sub Division                                                  D   \n",
       "Violation Legal Code                                          T   \n",
       "Days Parking In Effect                                      NaN   \n",
       "From Hours In Effect                                        NaN   \n",
       "To Hours In Effect                                          NaN   \n",
       "Vehicle Color                                                GY   \n",
       "Unregistered Vehicle?                                       NaN   \n",
       "Vehicle Year                                               2001   \n",
       "Meter Number                                                NaN   \n",
       "Feet From Curb                                                0   \n",
       "Violation Post Code                                         NaN   \n",
       "Violation Description              FAILURE TO STOP AT RED LIGHT   \n",
       "No Standing or Stopping Violation                           NaN   \n",
       "Hydrant Violation                                           NaN   \n",
       "Double Parking Violation                                    NaN   \n",
       "\n",
       "                                                              1  \\\n",
       "Summons Number                                       5092451658   \n",
       "Plate ID                                                GZH7067   \n",
       "Registration State                                           NY   \n",
       "Plate Type                                                  PAS   \n",
       "Issue Date                                  2016-07-08 00:00:00   \n",
       "Violation Code                                                7   \n",
       "Vehicle Body Type                                          SUBN   \n",
       "Vehicle Make                                              TOYOT   \n",
       "Issuing Agency                                                V   \n",
       "Street Code1                                                  0   \n",
       "Street Code2                                                  0   \n",
       "Street Code3                                                  0   \n",
       "Vehicle Expiration Date                                       0   \n",
       "Violation Location                                          NaN   \n",
       "Violation Precinct                                            0   \n",
       "Issuer Precinct                                               0   \n",
       "Issuer Code                                                   0   \n",
       "Issuer Command                                              NaN   \n",
       "Issuer Squad                                                NaN   \n",
       "Violation Time                                            0400P   \n",
       "Time First Observed                                         NaN   \n",
       "Violation County                                             BX   \n",
       "Violation In Front Of Or Opposite                           NaN   \n",
       "House Number                                                NaN   \n",
       "Street Name                                ALLERTON AVE (W/B) @   \n",
       "Intersecting Street                                  BARNES AVE   \n",
       "Date First Observed                                           0   \n",
       "Law Section                                                1111   \n",
       "Sub Division                                                  D   \n",
       "Violation Legal Code                                          T   \n",
       "Days Parking In Effect                                      NaN   \n",
       "From Hours In Effect                                        NaN   \n",
       "To Hours In Effect                                          NaN   \n",
       "Vehicle Color                                                GY   \n",
       "Unregistered Vehicle?                                       NaN   \n",
       "Vehicle Year                                               2001   \n",
       "Meter Number                                                NaN   \n",
       "Feet From Curb                                                0   \n",
       "Violation Post Code                                         NaN   \n",
       "Violation Description              FAILURE TO STOP AT RED LIGHT   \n",
       "No Standing or Stopping Violation                           NaN   \n",
       "Hydrant Violation                                           NaN   \n",
       "Double Parking Violation                                    NaN   \n",
       "\n",
       "                                                      2  \\\n",
       "Summons Number                               4006265037   \n",
       "Plate ID                                        FZX9232   \n",
       "Registration State                                   NY   \n",
       "Plate Type                                          PAS   \n",
       "Issue Date                          2016-08-23 00:00:00   \n",
       "Violation Code                                        5   \n",
       "Vehicle Body Type                                  SUBN   \n",
       "Vehicle Make                                       FORD   \n",
       "Issuing Agency                                        V   \n",
       "Street Code1                                          0   \n",
       "Street Code2                                          0   \n",
       "Street Code3                                          0   \n",
       "Vehicle Expiration Date                               0   \n",
       "Violation Location                                  NaN   \n",
       "Violation Precinct                                    0   \n",
       "Issuer Precinct                                       0   \n",
       "Issuer Code                                           0   \n",
       "Issuer Command                                      NaN   \n",
       "Issuer Squad                                        NaN   \n",
       "Violation Time                                    0233P   \n",
       "Time First Observed                                 NaN   \n",
       "Violation County                                     BX   \n",
       "Violation In Front Of Or Opposite                   NaN   \n",
       "House Number                                        NaN   \n",
       "Street Name                        SB WEBSTER AVE @ E 1   \n",
       "Intersecting Street                             94TH ST   \n",
       "Date First Observed                                   0   \n",
       "Law Section                                        1111   \n",
       "Sub Division                                          C   \n",
       "Violation Legal Code                                  T   \n",
       "Days Parking In Effect                              NaN   \n",
       "From Hours In Effect                                NaN   \n",
       "To Hours In Effect                                  NaN   \n",
       "Vehicle Color                                        BK   \n",
       "Unregistered Vehicle?                               NaN   \n",
       "Vehicle Year                                       2004   \n",
       "Meter Number                                        NaN   \n",
       "Feet From Curb                                        0   \n",
       "Violation Post Code                                 NaN   \n",
       "Violation Description                BUS LANE VIOLATION   \n",
       "No Standing or Stopping Violation                   NaN   \n",
       "Hydrant Violation                                   NaN   \n",
       "Double Parking Violation                            NaN   \n",
       "\n",
       "                                                       3  \\\n",
       "Summons Number                                8478629828   \n",
       "Plate ID                                         66623ME   \n",
       "Registration State                                    NY   \n",
       "Plate Type                                           COM   \n",
       "Issue Date                           2017-06-14 00:00:00   \n",
       "Violation Code                                        47   \n",
       "Vehicle Body Type                                   REFG   \n",
       "Vehicle Make                                       MITSU   \n",
       "Issuing Agency                                         T   \n",
       "Street Code1                                       10610   \n",
       "Street Code2                                       34330   \n",
       "Street Code3                                       34350   \n",
       "Vehicle Expiration Date                         20180630   \n",
       "Violation Location                                  0014   \n",
       "Violation Precinct                                    14   \n",
       "Issuer Precinct                                       14   \n",
       "Issuer Code                                       359594   \n",
       "Issuer Command                                      T102   \n",
       "Issuer Squad                                           J   \n",
       "Violation Time                                     1120A   \n",
       "Time First Observed                                  NaN   \n",
       "Violation County                                      NY   \n",
       "Violation In Front Of Or Opposite                      O   \n",
       "House Number                                         330   \n",
       "Street Name                                      7th Ave   \n",
       "Intersecting Street                                  NaN   \n",
       "Date First Observed                                    0   \n",
       "Law Section                                          408   \n",
       "Sub Division                                          l2   \n",
       "Violation Legal Code                                 NaN   \n",
       "Days Parking In Effect                                 Y   \n",
       "From Hours In Effect                               0700A   \n",
       "To Hours In Effect                                 0700P   \n",
       "Vehicle Color                                         WH   \n",
       "Unregistered Vehicle?                                NaN   \n",
       "Vehicle Year                                        2007   \n",
       "Meter Number                                         NaN   \n",
       "Feet From Curb                                         0   \n",
       "Violation Post Code                                   04   \n",
       "Violation Description              47-Double PKG-Midtown   \n",
       "No Standing or Stopping Violation                    NaN   \n",
       "Hydrant Violation                                    NaN   \n",
       "Double Parking Violation                             NaN   \n",
       "\n",
       "                                                               4  \n",
       "Summons Number                                        7868300310  \n",
       "Plate ID                                                 37033JV  \n",
       "Registration State                                            NY  \n",
       "Plate Type                                                   COM  \n",
       "Issue Date                                   2016-11-21 00:00:00  \n",
       "Violation Code                                                69  \n",
       "Vehicle Body Type                                           DELV  \n",
       "Vehicle Make                                               INTER  \n",
       "Issuing Agency                                                 T  \n",
       "Street Code1                                               10510  \n",
       "Street Code2                                               34310  \n",
       "Street Code3                                               34330  \n",
       "Vehicle Expiration Date                                 20170228  \n",
       "Violation Location                                          0013  \n",
       "Violation Precinct                                            13  \n",
       "Issuer Precinct                                               13  \n",
       "Issuer Code                                               364832  \n",
       "Issuer Command                                              T102  \n",
       "Issuer Squad                                                   M  \n",
       "Violation Time                                             0555P  \n",
       "Time First Observed                                          NaN  \n",
       "Violation County                                              NY  \n",
       "Violation In Front Of Or Opposite                              F  \n",
       "House Number                                                 799  \n",
       "Street Name                                              6th Ave  \n",
       "Intersecting Street                                          NaN  \n",
       "Date First Observed                                            0  \n",
       "Law Section                                                  408  \n",
       "Sub Division                                                  h1  \n",
       "Violation Legal Code                                         NaN  \n",
       "Days Parking In Effect                                         Y  \n",
       "From Hours In Effect                                       0700A  \n",
       "To Hours In Effect                                         0700P  \n",
       "Vehicle Color                                              WHITE  \n",
       "Unregistered Vehicle?                                        NaN  \n",
       "Vehicle Year                                                2007  \n",
       "Meter Number                                                 NaN  \n",
       "Feet From Curb                                                 0  \n",
       "Violation Post Code                                         31 6  \n",
       "Violation Description              69-Failure to Disp Muni Recpt  \n",
       "No Standing or Stopping Violation                            NaN  \n",
       "Hydrant Violation                                            NaN  \n",
       "Double Parking Violation                                     NaN  "
      ]
     },
     "execution_count": 3,
     "metadata": {},
     "output_type": "execute_result"
    }
   ],
   "source": [
    "# Show first 5 rows as columns\n",
    "df.head(5).T"
   ]
  },
  {
   "cell_type": "code",
   "execution_count": 4,
   "id": "bab94c84",
   "metadata": {
    "execution": {
     "iopub.execute_input": "2021-11-16T16:52:19.942918Z",
     "iopub.status.busy": "2021-11-16T16:52:19.940279Z",
     "iopub.status.idle": "2021-11-16T16:52:19.946952Z",
     "shell.execute_reply": "2021-11-16T16:52:19.946431Z",
     "shell.execute_reply.started": "2021-11-16T16:22:22.390758Z"
    },
    "papermill": {
     "duration": 0.05066,
     "end_time": "2021-11-16T16:52:19.947090",
     "exception": false,
     "start_time": "2021-11-16T16:52:19.896430",
     "status": "completed"
    },
    "tags": []
   },
   "outputs": [
    {
     "name": "stdout",
     "output_type": "stream",
     "text": [
      "\n",
      "Number of rows - 10803028\n",
      "\n",
      "Number of columns - 43\n"
     ]
    }
   ],
   "source": [
    "# Check the shape of imported data\n",
    "print(f\"\\nNumber of rows - {df.shape[0]}\")\n",
    "print(f\"\\nNumber of columns - {df.shape[1]}\")"
   ]
  },
  {
   "cell_type": "code",
   "execution_count": 5,
   "id": "4b1b6543",
   "metadata": {
    "execution": {
     "iopub.execute_input": "2021-11-16T16:52:20.037986Z",
     "iopub.status.busy": "2021-11-16T16:52:20.037195Z",
     "iopub.status.idle": "2021-11-16T16:52:20.056811Z",
     "shell.execute_reply": "2021-11-16T16:52:20.056110Z",
     "shell.execute_reply.started": "2021-11-16T16:22:22.411855Z"
    },
    "papermill": {
     "duration": 0.066933,
     "end_time": "2021-11-16T16:52:20.056960",
     "exception": false,
     "start_time": "2021-11-16T16:52:19.990027",
     "status": "completed"
    },
    "tags": []
   },
   "outputs": [
    {
     "name": "stdout",
     "output_type": "stream",
     "text": [
      "<class 'pandas.core.frame.DataFrame'>\n",
      "RangeIndex: 10803028 entries, 0 to 10803027\n",
      "Data columns (total 43 columns):\n",
      " #   Column                             Dtype         \n",
      "---  ------                             -----         \n",
      " 0   Summons Number                     int64         \n",
      " 1   Plate ID                           object        \n",
      " 2   Registration State                 object        \n",
      " 3   Plate Type                         object        \n",
      " 4   Issue Date                         datetime64[ns]\n",
      " 5   Violation Code                     int64         \n",
      " 6   Vehicle Body Type                  object        \n",
      " 7   Vehicle Make                       object        \n",
      " 8   Issuing Agency                     object        \n",
      " 9   Street Code1                       int64         \n",
      " 10  Street Code2                       int64         \n",
      " 11  Street Code3                       int64         \n",
      " 12  Vehicle Expiration Date            int64         \n",
      " 13  Violation Location                 object        \n",
      " 14  Violation Precinct                 int64         \n",
      " 15  Issuer Precinct                    int64         \n",
      " 16  Issuer Code                        int64         \n",
      " 17  Issuer Command                     object        \n",
      " 18  Issuer Squad                       object        \n",
      " 19  Violation Time                     object        \n",
      " 20  Time First Observed                object        \n",
      " 21  Violation County                   object        \n",
      " 22  Violation In Front Of Or Opposite  object        \n",
      " 23  House Number                       object        \n",
      " 24  Street Name                        object        \n",
      " 25  Intersecting Street                object        \n",
      " 26  Date First Observed                int64         \n",
      " 27  Law Section                        int64         \n",
      " 28  Sub Division                       object        \n",
      " 29  Violation Legal Code               object        \n",
      " 30  Days Parking In Effect             object        \n",
      " 31  From Hours In Effect               object        \n",
      " 32  To Hours In Effect                 object        \n",
      " 33  Vehicle Color                      object        \n",
      " 34  Unregistered Vehicle?              object        \n",
      " 35  Vehicle Year                       int64         \n",
      " 36  Meter Number                       object        \n",
      " 37  Feet From Curb                     int64         \n",
      " 38  Violation Post Code                object        \n",
      " 39  Violation Description              object        \n",
      " 40  No Standing or Stopping Violation  object        \n",
      " 41  Hydrant Violation                  object        \n",
      " 42  Double Parking Violation           object        \n",
      "dtypes: datetime64[ns](1), int64(13), object(29)\n",
      "memory usage: 3.5+ GB\n"
     ]
    }
   ],
   "source": [
    "# Columns data types\n",
    "df.info()"
   ]
  },
  {
   "cell_type": "code",
   "execution_count": 6,
   "id": "5bd79f85",
   "metadata": {
    "execution": {
     "iopub.execute_input": "2021-11-16T16:52:20.146952Z",
     "iopub.status.busy": "2021-11-16T16:52:20.146191Z",
     "iopub.status.idle": "2021-11-16T16:52:48.835151Z",
     "shell.execute_reply": "2021-11-16T16:52:48.834586Z",
     "shell.execute_reply.started": "2021-11-16T16:22:22.446475Z"
    },
    "papermill": {
     "duration": 28.735899,
     "end_time": "2021-11-16T16:52:48.835311",
     "exception": false,
     "start_time": "2021-11-16T16:52:20.099412",
     "status": "completed"
    },
    "tags": []
   },
   "outputs": [
    {
     "data": {
      "text/plain": [
       "Summons Number                              0\n",
       "Plate ID                                  728\n",
       "Registration State                          0\n",
       "Plate Type                                  0\n",
       "Issue Date                                  0\n",
       "Violation Code                              0\n",
       "Vehicle Body Type                       42711\n",
       "Vehicle Make                            73050\n",
       "Issuing Agency                              0\n",
       "Street Code1                                0\n",
       "Street Code2                                0\n",
       "Street Code3                                0\n",
       "Vehicle Expiration Date                     0\n",
       "Violation Location                    2072400\n",
       "Violation Precinct                          0\n",
       "Issuer Precinct                             0\n",
       "Issuer Code                                 0\n",
       "Issuer Command                        2062645\n",
       "Issuer Squad                          2063541\n",
       "Violation Time                             63\n",
       "Time First Observed                   9962281\n",
       "Violation County                        39547\n",
       "Violation In Front Of Or Opposite     2161235\n",
       "House Number                          2288618\n",
       "Street Name                              4009\n",
       "Intersecting Street                   7435473\n",
       "Date First Observed                         0\n",
       "Law Section                                 0\n",
       "Sub Division                              773\n",
       "Violation Legal Code                  8740321\n",
       "Days Parking In Effect                2712416\n",
       "From Hours In Effect                  5450946\n",
       "To Hours In Effect                    5450943\n",
       "Vehicle Color                          152342\n",
       "Unregistered Vehicle?                 9675432\n",
       "Vehicle Year                                0\n",
       "Meter Number                          9017555\n",
       "Feet From Curb                              0\n",
       "Violation Post Code                   3190187\n",
       "Violation Description                 1127470\n",
       "No Standing or Stopping Violation    10803028\n",
       "Hydrant Violation                    10803028\n",
       "Double Parking Violation             10803028\n",
       "dtype: int64"
      ]
     },
     "execution_count": 6,
     "metadata": {},
     "output_type": "execute_result"
    }
   ],
   "source": [
    "# Count null values in every columns\n",
    "df.isnull().sum()"
   ]
  },
  {
   "cell_type": "markdown",
   "id": "79a7ec48",
   "metadata": {
    "papermill": {
     "duration": 0.042431,
     "end_time": "2021-11-16T16:52:48.920847",
     "exception": false,
     "start_time": "2021-11-16T16:52:48.878416",
     "status": "completed"
    },
    "tags": []
   },
   "source": [
    "###  Dimension 1 (Compliteness)\n",
    "\n",
    "The proportion of data stored against the potential for 100%\n",
    "\n",
    "Tasks:\n",
    "1. The numbers of houses exist for every row.\n",
    "2. \"Registration state\" exist for every row as two letters (example “CA”).\n",
    "\n"
   ]
  },
  {
   "cell_type": "markdown",
   "id": "6b29dad6",
   "metadata": {
    "papermill": {
     "duration": 0.042046,
     "end_time": "2021-11-16T16:52:49.005476",
     "exception": false,
     "start_time": "2021-11-16T16:52:48.963430",
     "status": "completed"
    },
    "tags": []
   },
   "source": [
    "#### 1. Check that the numbers of houses exist for every row"
   ]
  },
  {
   "cell_type": "code",
   "execution_count": 7,
   "id": "35ef1302",
   "metadata": {
    "execution": {
     "iopub.execute_input": "2021-11-16T16:52:49.096166Z",
     "iopub.status.busy": "2021-11-16T16:52:49.095186Z",
     "iopub.status.idle": "2021-11-16T16:52:50.170400Z",
     "shell.execute_reply": "2021-11-16T16:52:50.169846Z",
     "shell.execute_reply.started": "2021-11-16T16:22:51.363703Z"
    },
    "papermill": {
     "duration": 1.121509,
     "end_time": "2021-11-16T16:52:50.170554",
     "exception": false,
     "start_time": "2021-11-16T16:52:49.049045",
     "status": "completed"
    },
    "tags": []
   },
   "outputs": [
    {
     "name": "stdout",
     "output_type": "stream",
     "text": [
      "Percentage of houses with house's number is 78.82%\n"
     ]
    }
   ],
   "source": [
    "# Check that the numbers of houses exist for every row\n",
    "perc_houses_with_num = df['House Number'].isnull().sum() / df.shape[0] * 100\n",
    "print(f\"Percentage of houses with house's number is {100 - perc_houses_with_num:.2f}%\")"
   ]
  },
  {
   "cell_type": "markdown",
   "id": "97a317d8",
   "metadata": {
    "papermill": {
     "duration": 0.042386,
     "end_time": "2021-11-16T16:52:50.256093",
     "exception": false,
     "start_time": "2021-11-16T16:52:50.213707",
     "status": "completed"
    },
    "tags": []
   },
   "source": [
    "#### 2. Check that \"Registration state\" exist for every row as two letters (example “CA”)."
   ]
  },
  {
   "cell_type": "code",
   "execution_count": 8,
   "id": "b03f75f7",
   "metadata": {
    "execution": {
     "iopub.execute_input": "2021-11-16T16:52:51.038931Z",
     "iopub.status.busy": "2021-11-16T16:52:50.544898Z",
     "iopub.status.idle": "2021-11-16T16:52:51.179765Z",
     "shell.execute_reply": "2021-11-16T16:52:51.180249Z",
     "shell.execute_reply.started": "2021-11-16T16:22:52.476604Z"
    },
    "papermill": {
     "duration": 0.881509,
     "end_time": "2021-11-16T16:52:51.180465",
     "exception": false,
     "start_time": "2021-11-16T16:52:50.298956",
     "status": "completed"
    },
    "tags": []
   },
   "outputs": [
    {
     "data": {
      "text/plain": [
       "array(['NY', 'NJ', 'MA', 'VA', 'AZ', 'FL', 'AL', 'SC', 'MN', 'MD', 'PA',\n",
       "       'IN', 'CA', 'WY', 'OR', 'CT', 'TX', 'ON', 'DE', '99', 'NC', 'ME',\n",
       "       'IA', 'GA', 'TN', 'RI', 'IL', 'MI', 'VT', 'OH', 'NE', 'SD', 'NH',\n",
       "       'UT', 'WI', 'KY', 'NM', 'QB', 'WA', 'OK', 'CO', 'MO', 'ID', 'AR',\n",
       "       'KS', 'MS', 'MT', 'WV', 'LA', 'HI', 'DC', 'DP', 'AB', 'GV', 'NV',\n",
       "       'NS', 'AK', 'ND', 'MB', 'BC', 'NB', 'PR', 'NT', 'FO', 'PE', 'SK',\n",
       "       'MX'], dtype=object)"
      ]
     },
     "execution_count": 8,
     "metadata": {},
     "output_type": "execute_result"
    }
   ],
   "source": [
    "# Look at uniuque values in the 'Registration State' column \n",
    "df['Registration State'].unique()"
   ]
  },
  {
   "cell_type": "markdown",
   "id": "5ef70720",
   "metadata": {
    "papermill": {
     "duration": 0.043018,
     "end_time": "2021-11-16T16:52:51.266704",
     "exception": false,
     "start_time": "2021-11-16T16:52:51.223686",
     "status": "completed"
    },
    "tags": []
   },
   "source": [
    "We can see the incorrect value '99' in the 'Registration State' column and a lot of 2 letter abbreviations that don't exist for USA states."
   ]
  },
  {
   "cell_type": "code",
   "execution_count": 9,
   "id": "da409ed7",
   "metadata": {
    "execution": {
     "iopub.execute_input": "2021-11-16T16:52:51.356496Z",
     "iopub.status.busy": "2021-11-16T16:52:51.355850Z",
     "iopub.status.idle": "2021-11-16T16:53:00.543626Z",
     "shell.execute_reply": "2021-11-16T16:53:00.544255Z",
     "shell.execute_reply.started": "2021-11-16T16:22:53.341342Z"
    },
    "papermill": {
     "duration": 9.234409,
     "end_time": "2021-11-16T16:53:00.544441",
     "exception": false,
     "start_time": "2021-11-16T16:52:51.310032",
     "status": "completed"
    },
    "tags": []
   },
   "outputs": [
    {
     "name": "stdout",
     "output_type": "stream",
     "text": [
      "\n",
      "Percantage of rows with 2 letters in 'Registration State' is 99.66%\n"
     ]
    }
   ],
   "source": [
    "# Check percentage of rows with 2 letters in the \"Registration state\" column\n",
    "perc_rows_with_2_letters = df['Registration State'].str.match(r'^([A-Z]{2})').sum() / df.shape[0] * 100\n",
    "print(f\"\\nPercantage of rows with 2 letters in 'Registration State' is {perc_rows_with_2_letters:.2f}%\")"
   ]
  },
  {
   "cell_type": "markdown",
   "id": "9160ab28",
   "metadata": {
    "papermill": {
     "duration": 0.043033,
     "end_time": "2021-11-16T16:53:00.632542",
     "exception": false,
     "start_time": "2021-11-16T16:53:00.589509",
     "status": "completed"
    },
    "tags": []
   },
   "source": [
    "### Dimension 2 (Timeliness)\n",
    "The degree to which data represent reality from the required point in time\n",
    "\n",
    "Task:\n",
    "1. We do not need data from any year but 2017\n",
    "\n",
    "We need data for the 2017 year only so we will find all rows that satisfy this period."
   ]
  },
  {
   "cell_type": "code",
   "execution_count": 10,
   "id": "e7575dec",
   "metadata": {
    "execution": {
     "iopub.execute_input": "2021-11-16T16:53:00.724652Z",
     "iopub.status.busy": "2021-11-16T16:53:00.723945Z",
     "iopub.status.idle": "2021-11-16T16:53:03.063764Z",
     "shell.execute_reply": "2021-11-16T16:53:03.064254Z",
     "shell.execute_reply.started": "2021-11-16T16:23:02.610776Z"
    },
    "papermill": {
     "duration": 2.387162,
     "end_time": "2021-11-16T16:53:03.064465",
     "exception": false,
     "start_time": "2021-11-16T16:53:00.677303",
     "status": "completed"
    },
    "tags": []
   },
   "outputs": [
    {
     "name": "stdout",
     "output_type": "stream",
     "text": [
      " 0.00% of rows was filtered by year.\n"
     ]
    }
   ],
   "source": [
    "# Filter data by year\n",
    "df = df[(df['Issue Date'] >= \"2017-01-01\") & (df['Issue Date'] <= \"2017-12-31\")]\n",
    "\n",
    "# Print how many rows was filtered\n",
    "print(f\"{(1 - df.shape[0] / df.shape[0]) * 100: .2f}% of rows was filtered by year.\")"
   ]
  },
  {
   "cell_type": "markdown",
   "id": "17b8ccdc",
   "metadata": {
    "papermill": {
     "duration": 0.043871,
     "end_time": "2021-11-16T16:53:03.152255",
     "exception": false,
     "start_time": "2021-11-16T16:53:03.108384",
     "status": "completed"
    },
    "tags": []
   },
   "source": [
    "### Dimension 3  (Consistency)\n",
    "\n",
    "The absence of difference, when comparing two or more representations of a thing\n",
    "against a definition.\n",
    "\n",
    "Tasks:\n",
    "1. House where violation was captured is present;\n",
    "2. \"Violation description\" should exist.\n",
    "\n"
   ]
  },
  {
   "cell_type": "markdown",
   "id": "0f483bb8",
   "metadata": {
    "papermill": {
     "duration": 0.043422,
     "end_time": "2021-11-16T16:53:03.239912",
     "exception": false,
     "start_time": "2021-11-16T16:53:03.196490",
     "status": "completed"
    },
    "tags": []
   },
   "source": [
    "#### 1. House where violation was captured is present\n"
   ]
  },
  {
   "cell_type": "code",
   "execution_count": 11,
   "id": "2d4cb955",
   "metadata": {
    "execution": {
     "iopub.execute_input": "2021-11-16T16:53:03.331988Z",
     "iopub.status.busy": "2021-11-16T16:53:03.331312Z",
     "iopub.status.idle": "2021-11-16T16:53:03.881870Z",
     "shell.execute_reply": "2021-11-16T16:53:03.881285Z",
     "shell.execute_reply.started": "2021-11-16T16:23:05.078345Z"
    },
    "papermill": {
     "duration": 0.59797,
     "end_time": "2021-11-16T16:53:03.882007",
     "exception": false,
     "start_time": "2021-11-16T16:53:03.284037",
     "status": "completed"
    },
    "tags": []
   },
   "outputs": [
    {
     "name": "stdout",
     "output_type": "stream",
     "text": [
      "Null numbers in 'Violation Location' - 925596\n"
     ]
    }
   ],
   "source": [
    "print(f\"Null numbers in 'Violation Location' - {df['Violation Location'].isna().sum()}\")"
   ]
  },
  {
   "cell_type": "code",
   "execution_count": 12,
   "id": "76c01f17",
   "metadata": {
    "execution": {
     "iopub.execute_input": "2021-11-16T16:53:04.531494Z",
     "iopub.status.busy": "2021-11-16T16:53:04.530751Z",
     "iopub.status.idle": "2021-11-16T16:53:04.534597Z",
     "shell.execute_reply": "2021-11-16T16:53:04.534027Z",
     "shell.execute_reply.started": "2021-11-16T16:23:05.631625Z"
    },
    "papermill": {
     "duration": 0.608293,
     "end_time": "2021-11-16T16:53:04.534753",
     "exception": false,
     "start_time": "2021-11-16T16:53:03.926460",
     "status": "completed"
    },
    "tags": []
   },
   "outputs": [
    {
     "data": {
      "text/plain": [
       "0019    274445\n",
       "0014    203553\n",
       "0001    174702\n",
       "0018    169131\n",
       "114     147444\n",
       "         ...  \n",
       "802          1\n",
       "183          1\n",
       "269          1\n",
       "667          1\n",
       "234          1\n",
       "Name: Violation Location, Length: 170, dtype: int64"
      ]
     },
     "execution_count": 12,
     "metadata": {},
     "output_type": "execute_result"
    }
   ],
   "source": [
    "df['Violation Location'].value_counts()"
   ]
  },
  {
   "cell_type": "markdown",
   "id": "b5cf624c",
   "metadata": {
    "papermill": {
     "duration": 0.044745,
     "end_time": "2021-11-16T16:53:04.624359",
     "exception": false,
     "start_time": "2021-11-16T16:53:04.579614",
     "status": "completed"
    },
    "tags": []
   },
   "source": [
    "'Violation Location' looks like \"integer\" datatype, so let's replace null value with '0'."
   ]
  },
  {
   "cell_type": "code",
   "execution_count": 13,
   "id": "80f04beb",
   "metadata": {
    "execution": {
     "iopub.execute_input": "2021-11-16T16:53:05.252717Z",
     "iopub.status.busy": "2021-11-16T16:53:05.251985Z",
     "iopub.status.idle": "2021-11-16T16:53:06.057033Z",
     "shell.execute_reply": "2021-11-16T16:53:06.057551Z",
     "shell.execute_reply.started": "2021-11-16T16:23:06.206898Z"
    },
    "papermill": {
     "duration": 1.3885,
     "end_time": "2021-11-16T16:53:06.057720",
     "exception": false,
     "start_time": "2021-11-16T16:53:04.669220",
     "status": "completed"
    },
    "tags": []
   },
   "outputs": [
    {
     "name": "stdout",
     "output_type": "stream",
     "text": [
      "Null numbers in 'Violation Location' after imputing - 0\n"
     ]
    }
   ],
   "source": [
    "# Replace 'Violation Location' nulls with '0'\n",
    "df['Violation Location'] = df['Violation Location'].fillna('0')\n",
    "print(f\"Null numbers in 'Violation Location' after imputing - {df['Violation Location'].isna().sum()}\")"
   ]
  },
  {
   "cell_type": "markdown",
   "id": "179da1d0",
   "metadata": {
    "papermill": {
     "duration": 0.044663,
     "end_time": "2021-11-16T16:53:06.147543",
     "exception": false,
     "start_time": "2021-11-16T16:53:06.102880",
     "status": "completed"
    },
    "tags": []
   },
   "source": [
    "#### 2. \"Violation description\" should exist"
   ]
  },
  {
   "cell_type": "code",
   "execution_count": 14,
   "id": "62925419",
   "metadata": {
    "execution": {
     "iopub.execute_input": "2021-11-16T16:53:06.795823Z",
     "iopub.status.busy": "2021-11-16T16:53:06.795085Z",
     "iopub.status.idle": "2021-11-16T16:53:06.806997Z",
     "shell.execute_reply": "2021-11-16T16:53:06.806468Z",
     "shell.execute_reply.started": "2021-11-16T16:23:07.565573Z"
    },
    "papermill": {
     "duration": 0.614291,
     "end_time": "2021-11-16T16:53:06.807142",
     "exception": false,
     "start_time": "2021-11-16T16:53:06.192851",
     "status": "completed"
    },
    "tags": []
   },
   "outputs": [
    {
     "name": "stdout",
     "output_type": "stream",
     "text": [
      "Null numbers in 'Violation Description' - 502169\n"
     ]
    }
   ],
   "source": [
    "print(f\"Null numbers in 'Violation Description' - {df['Violation Description'].isna().sum()}\")"
   ]
  },
  {
   "cell_type": "markdown",
   "id": "346ba23b",
   "metadata": {
    "papermill": {
     "duration": 0.047829,
     "end_time": "2021-11-16T16:53:06.906668",
     "exception": false,
     "start_time": "2021-11-16T16:53:06.858839",
     "status": "completed"
    },
    "tags": []
   },
   "source": [
    "'Vialation code' exist for every row in data, take this info and create a dict with the violation code as key and the most common description as value."
   ]
  },
  {
   "cell_type": "code",
   "execution_count": 15,
   "id": "cb994b4b",
   "metadata": {
    "execution": {
     "iopub.execute_input": "2021-11-16T16:53:07.068555Z",
     "iopub.status.busy": "2021-11-16T16:53:07.050931Z",
     "iopub.status.idle": "2021-11-16T16:53:09.004505Z",
     "shell.execute_reply": "2021-11-16T16:53:09.003870Z",
     "shell.execute_reply.started": "2021-11-16T16:23:08.173621Z"
    },
    "papermill": {
     "duration": 2.051859,
     "end_time": "2021-11-16T16:53:09.004703",
     "exception": false,
     "start_time": "2021-11-16T16:53:06.952844",
     "status": "completed"
    },
    "tags": []
   },
   "outputs": [],
   "source": [
    "# Create dict with the violation code and the most common violation description for this code\n",
    "df_description = df[['Violation Code', 'Violation Description']]\n",
    "df_description = df_description.dropna()\n",
    "val_counts_dict = df_description.groupby('Violation Code')['Violation Description'].agg(lambda x:x.value_counts().index[0]).to_dict()"
   ]
  },
  {
   "cell_type": "code",
   "execution_count": 16,
   "id": "2dfdad68",
   "metadata": {
    "execution": {
     "iopub.execute_input": "2021-11-16T16:53:09.689563Z",
     "iopub.status.busy": "2021-11-16T16:53:09.688474Z",
     "iopub.status.idle": "2021-11-16T16:53:38.672561Z",
     "shell.execute_reply": "2021-11-16T16:53:38.673055Z",
     "shell.execute_reply.started": "2021-11-16T16:23:10.162292Z"
    },
    "papermill": {
     "duration": 29.620538,
     "end_time": "2021-11-16T16:53:38.673238",
     "exception": false,
     "start_time": "2021-11-16T16:53:09.052700",
     "status": "completed"
    },
    "tags": []
   },
   "outputs": [
    {
     "data": {
      "text/html": [
       "<div>\n",
       "<style scoped>\n",
       "    .dataframe tbody tr th:only-of-type {\n",
       "        vertical-align: middle;\n",
       "    }\n",
       "\n",
       "    .dataframe tbody tr th {\n",
       "        vertical-align: top;\n",
       "    }\n",
       "\n",
       "    .dataframe thead th {\n",
       "        text-align: right;\n",
       "    }\n",
       "</style>\n",
       "<table border=\"1\" class=\"dataframe\">\n",
       "  <thead>\n",
       "    <tr style=\"text-align: right;\">\n",
       "      <th></th>\n",
       "      <th>Violation Code</th>\n",
       "      <th>Violation Description</th>\n",
       "    </tr>\n",
       "  </thead>\n",
       "  <tbody>\n",
       "    <tr>\n",
       "      <th>3</th>\n",
       "      <td>47</td>\n",
       "      <td>47-Double PKG-Midtown</td>\n",
       "    </tr>\n",
       "    <tr>\n",
       "      <th>5</th>\n",
       "      <td>7</td>\n",
       "      <td>FAILURE TO STOP AT RED LIGHT</td>\n",
       "    </tr>\n",
       "    <tr>\n",
       "      <th>10</th>\n",
       "      <td>78</td>\n",
       "      <td>78-Nighttime PKG on Res Street</td>\n",
       "    </tr>\n",
       "    <tr>\n",
       "      <th>14</th>\n",
       "      <td>40</td>\n",
       "      <td>40-Fire Hydrant</td>\n",
       "    </tr>\n",
       "    <tr>\n",
       "      <th>17</th>\n",
       "      <td>64</td>\n",
       "      <td>64-No STD Ex Con/DPL, D/S Dec</td>\n",
       "    </tr>\n",
       "    <tr>\n",
       "      <th>18</th>\n",
       "      <td>20</td>\n",
       "      <td>20A-No Parking (Non-COM)</td>\n",
       "    </tr>\n",
       "    <tr>\n",
       "      <th>19</th>\n",
       "      <td>36</td>\n",
       "      <td>PHTO SCHOOL ZN SPEED VIOLATION</td>\n",
       "    </tr>\n",
       "    <tr>\n",
       "      <th>20</th>\n",
       "      <td>38</td>\n",
       "      <td>38-Failure to Display Muni Rec</td>\n",
       "    </tr>\n",
       "    <tr>\n",
       "      <th>22</th>\n",
       "      <td>14</td>\n",
       "      <td>14-No Standing</td>\n",
       "    </tr>\n",
       "    <tr>\n",
       "      <th>23</th>\n",
       "      <td>75</td>\n",
       "      <td>75-No Match-Plate/Reg. Sticker</td>\n",
       "    </tr>\n",
       "  </tbody>\n",
       "</table>\n",
       "</div>"
      ],
      "text/plain": [
       "    Violation Code           Violation Description\n",
       "3               47           47-Double PKG-Midtown\n",
       "5                7    FAILURE TO STOP AT RED LIGHT\n",
       "10              78  78-Nighttime PKG on Res Street\n",
       "14              40                 40-Fire Hydrant\n",
       "17              64   64-No STD Ex Con/DPL, D/S Dec\n",
       "18              20        20A-No Parking (Non-COM)\n",
       "19              36  PHTO SCHOOL ZN SPEED VIOLATION\n",
       "20              38  38-Failure to Display Muni Rec\n",
       "22              14                  14-No Standing\n",
       "23              75  75-No Match-Plate/Reg. Sticker"
      ]
     },
     "execution_count": 16,
     "metadata": {},
     "output_type": "execute_result"
    }
   ],
   "source": [
    "# Fill nulls with 'Violation Code'\n",
    "df['Violation Description'] = df['Violation Description'].fillna(df['Violation Code'])\n",
    "# Replace filled Violation Code with most common description\n",
    "df['Violation Description'] = df['Violation Description'].replace(val_counts_dict)\n",
    "df[['Violation Code','Violation Description']].head(10)"
   ]
  },
  {
   "cell_type": "code",
   "execution_count": 17,
   "id": "878d0e45",
   "metadata": {
    "execution": {
     "iopub.execute_input": "2021-11-16T16:53:38.769385Z",
     "iopub.status.busy": "2021-11-16T16:53:38.768716Z",
     "iopub.status.idle": "2021-11-16T16:53:39.366587Z",
     "shell.execute_reply": "2021-11-16T16:53:39.367132Z",
     "shell.execute_reply.started": "2021-11-16T16:23:40.244136Z"
    },
    "papermill": {
     "duration": 0.647662,
     "end_time": "2021-11-16T16:53:39.367304",
     "exception": false,
     "start_time": "2021-11-16T16:53:38.719642",
     "status": "completed"
    },
    "tags": []
   },
   "outputs": [
    {
     "name": "stdout",
     "output_type": "stream",
     "text": [
      "Null numbers in 'Violation Description' after imputing - 0\n"
     ]
    }
   ],
   "source": [
    "print(f\"Null numbers in 'Violation Description' after imputing - {df['Violation Description'].isna().sum()}\")"
   ]
  },
  {
   "cell_type": "markdown",
   "id": "1cb70782",
   "metadata": {
    "papermill": {
     "duration": 0.047043,
     "end_time": "2021-11-16T16:53:39.460716",
     "exception": false,
     "start_time": "2021-11-16T16:53:39.413673",
     "status": "completed"
    },
    "tags": []
   },
   "source": [
    "### Dimension 4 (Uniqness)\n",
    "\n",
    "No entity instance (thing) will be recorded more than once based upon how that thing is identified.\n",
    "\n",
    "Task:\n",
    "\n",
    "1. No double rows, no duplicates"
   ]
  },
  {
   "cell_type": "code",
   "execution_count": 18,
   "id": "e71f00db",
   "metadata": {
    "execution": {
     "iopub.execute_input": "2021-11-16T16:53:39.560200Z",
     "iopub.status.busy": "2021-11-16T16:53:39.559553Z",
     "iopub.status.idle": "2021-11-16T16:54:13.032754Z",
     "shell.execute_reply": "2021-11-16T16:54:13.033613Z",
     "shell.execute_reply.started": "2021-11-16T16:23:40.841961Z"
    },
    "papermill": {
     "duration": 33.526638,
     "end_time": "2021-11-16T16:54:13.033813",
     "exception": false,
     "start_time": "2021-11-16T16:53:39.507175",
     "status": "completed"
    },
    "tags": []
   },
   "outputs": [
    {
     "name": "stdout",
     "output_type": "stream",
     "text": [
      "We didn't have full duplicates across data.\n"
     ]
    }
   ],
   "source": [
    "# Count full duplicates across dataframe\n",
    "cnt_full_duplicates = df.duplicated().sum()\n",
    "if cnt_full_duplicates == 0:\n",
    "    print(\"We didn't have full duplicates across data.\")\n",
    "else:\n",
    "    print(f\"Number of duplicated records - {cnt_full_duplicates}\")"
   ]
  },
  {
   "cell_type": "markdown",
   "id": "324af393",
   "metadata": {
    "papermill": {
     "duration": 0.046307,
     "end_time": "2021-11-16T16:54:13.128831",
     "exception": false,
     "start_time": "2021-11-16T16:54:13.082524",
     "status": "completed"
    },
    "tags": []
   },
   "source": [
    "We didn't have full duplicates across our table."
   ]
  },
  {
   "cell_type": "code",
   "execution_count": 19,
   "id": "5cc24981",
   "metadata": {
    "execution": {
     "iopub.execute_input": "2021-11-16T16:54:13.229421Z",
     "iopub.status.busy": "2021-11-16T16:54:13.228371Z",
     "iopub.status.idle": "2021-11-16T16:54:19.731318Z",
     "shell.execute_reply": "2021-11-16T16:54:19.730702Z",
     "shell.execute_reply.started": "2021-11-16T16:24:16.767871Z"
    },
    "papermill": {
     "duration": 6.556096,
     "end_time": "2021-11-16T16:54:19.731487",
     "exception": false,
     "start_time": "2021-11-16T16:54:13.175391",
     "status": "completed"
    },
    "tags": []
   },
   "outputs": [
    {
     "data": {
      "text/plain": [
       "55661"
      ]
     },
     "execution_count": 19,
     "metadata": {},
     "output_type": "execute_result"
    }
   ],
   "source": [
    "# Check duplicates across unique identificators of records\n",
    "df[['Plate ID', 'Registration State', 'Issue Date', 'Violation Code', 'Street Name', 'Violation Description']].duplicated().sum()"
   ]
  },
  {
   "cell_type": "code",
   "execution_count": 20,
   "id": "cf3500ef",
   "metadata": {
    "execution": {
     "iopub.execute_input": "2021-11-16T16:54:19.834213Z",
     "iopub.status.busy": "2021-11-16T16:54:19.833327Z",
     "iopub.status.idle": "2021-11-16T16:54:27.155820Z",
     "shell.execute_reply": "2021-11-16T16:54:27.155248Z",
     "shell.execute_reply.started": "2021-11-16T16:24:24.042384Z"
    },
    "papermill": {
     "duration": 7.375034,
     "end_time": "2021-11-16T16:54:27.155966",
     "exception": false,
     "start_time": "2021-11-16T16:54:19.780932",
     "status": "completed"
    },
    "tags": []
   },
   "outputs": [
    {
     "data": {
      "text/html": [
       "<div>\n",
       "<style scoped>\n",
       "    .dataframe tbody tr th:only-of-type {\n",
       "        vertical-align: middle;\n",
       "    }\n",
       "\n",
       "    .dataframe tbody tr th {\n",
       "        vertical-align: top;\n",
       "    }\n",
       "\n",
       "    .dataframe thead th {\n",
       "        text-align: right;\n",
       "    }\n",
       "</style>\n",
       "<table border=\"1\" class=\"dataframe\">\n",
       "  <thead>\n",
       "    <tr style=\"text-align: right;\">\n",
       "      <th></th>\n",
       "      <th>2578103</th>\n",
       "      <th>3099896</th>\n",
       "      <th>1256465</th>\n",
       "      <th>5429961</th>\n",
       "      <th>6282528</th>\n",
       "      <th>3756591</th>\n",
       "    </tr>\n",
       "  </thead>\n",
       "  <tbody>\n",
       "    <tr>\n",
       "      <th>Summons Number</th>\n",
       "      <td>8533017212</td>\n",
       "      <td>8532663667</td>\n",
       "      <td>8100540688</td>\n",
       "      <td>8100540676</td>\n",
       "      <td>1419473128</td>\n",
       "      <td>1419450487</td>\n",
       "    </tr>\n",
       "    <tr>\n",
       "      <th>Plate ID</th>\n",
       "      <td>0094VA</td>\n",
       "      <td>0094VA</td>\n",
       "      <td>009USH</td>\n",
       "      <td>009USH</td>\n",
       "      <td>0112055</td>\n",
       "      <td>0112055</td>\n",
       "    </tr>\n",
       "    <tr>\n",
       "      <th>Registration State</th>\n",
       "      <td>NC</td>\n",
       "      <td>NC</td>\n",
       "      <td>AK</td>\n",
       "      <td>AK</td>\n",
       "      <td>NJ</td>\n",
       "      <td>NJ</td>\n",
       "    </tr>\n",
       "    <tr>\n",
       "      <th>Plate Type</th>\n",
       "      <td>PAS</td>\n",
       "      <td>PAS</td>\n",
       "      <td>PAS</td>\n",
       "      <td>PAS</td>\n",
       "      <td>PAS</td>\n",
       "      <td>PAS</td>\n",
       "    </tr>\n",
       "    <tr>\n",
       "      <th>Issue Date</th>\n",
       "      <td>2017-04-18 00:00:00</td>\n",
       "      <td>2017-04-18 00:00:00</td>\n",
       "      <td>2017-02-24 00:00:00</td>\n",
       "      <td>2017-02-24 00:00:00</td>\n",
       "      <td>2017-02-01 00:00:00</td>\n",
       "      <td>2017-02-01 00:00:00</td>\n",
       "    </tr>\n",
       "    <tr>\n",
       "      <th>Violation Code</th>\n",
       "      <td>14</td>\n",
       "      <td>14</td>\n",
       "      <td>14</td>\n",
       "      <td>14</td>\n",
       "      <td>46</td>\n",
       "      <td>46</td>\n",
       "    </tr>\n",
       "    <tr>\n",
       "      <th>Vehicle Body Type</th>\n",
       "      <td>SUBN</td>\n",
       "      <td>SUBN</td>\n",
       "      <td>4DSD</td>\n",
       "      <td>4DSD</td>\n",
       "      <td>SDN</td>\n",
       "      <td>SDN</td>\n",
       "    </tr>\n",
       "    <tr>\n",
       "      <th>Vehicle Make</th>\n",
       "      <td>ACURA</td>\n",
       "      <td>ACURA</td>\n",
       "      <td>TOYOT</td>\n",
       "      <td>TOYOT</td>\n",
       "      <td>CHEVR</td>\n",
       "      <td>CHEVR</td>\n",
       "    </tr>\n",
       "    <tr>\n",
       "      <th>Issuing Agency</th>\n",
       "      <td>T</td>\n",
       "      <td>T</td>\n",
       "      <td>T</td>\n",
       "      <td>T</td>\n",
       "      <td>P</td>\n",
       "      <td>P</td>\n",
       "    </tr>\n",
       "    <tr>\n",
       "      <th>Street Code1</th>\n",
       "      <td>38430</td>\n",
       "      <td>38430</td>\n",
       "      <td>49690</td>\n",
       "      <td>49690</td>\n",
       "      <td>59430</td>\n",
       "      <td>59430</td>\n",
       "    </tr>\n",
       "    <tr>\n",
       "      <th>Street Code2</th>\n",
       "      <td>86030</td>\n",
       "      <td>86030</td>\n",
       "      <td>24390</td>\n",
       "      <td>24390</td>\n",
       "      <td>7530</td>\n",
       "      <td>74430</td>\n",
       "    </tr>\n",
       "    <tr>\n",
       "      <th>Street Code3</th>\n",
       "      <td>75430</td>\n",
       "      <td>75430</td>\n",
       "      <td>24490</td>\n",
       "      <td>24490</td>\n",
       "      <td>74430</td>\n",
       "      <td>14330</td>\n",
       "    </tr>\n",
       "    <tr>\n",
       "      <th>Vehicle Expiration Date</th>\n",
       "      <td>20170688</td>\n",
       "      <td>20170688</td>\n",
       "      <td>20170288</td>\n",
       "      <td>20170288</td>\n",
       "      <td>0</td>\n",
       "      <td>0</td>\n",
       "    </tr>\n",
       "    <tr>\n",
       "      <th>Violation Location</th>\n",
       "      <td>0077</td>\n",
       "      <td>0077</td>\n",
       "      <td>103</td>\n",
       "      <td>103</td>\n",
       "      <td>0066</td>\n",
       "      <td>0066</td>\n",
       "    </tr>\n",
       "    <tr>\n",
       "      <th>Violation Precinct</th>\n",
       "      <td>77</td>\n",
       "      <td>77</td>\n",
       "      <td>103</td>\n",
       "      <td>103</td>\n",
       "      <td>66</td>\n",
       "      <td>66</td>\n",
       "    </tr>\n",
       "    <tr>\n",
       "      <th>Issuer Precinct</th>\n",
       "      <td>77</td>\n",
       "      <td>77</td>\n",
       "      <td>103</td>\n",
       "      <td>103</td>\n",
       "      <td>66</td>\n",
       "      <td>66</td>\n",
       "    </tr>\n",
       "    <tr>\n",
       "      <th>Issuer Code</th>\n",
       "      <td>345162</td>\n",
       "      <td>357358</td>\n",
       "      <td>358569</td>\n",
       "      <td>358569</td>\n",
       "      <td>931465</td>\n",
       "      <td>931465</td>\n",
       "    </tr>\n",
       "    <tr>\n",
       "      <th>Issuer Command</th>\n",
       "      <td>T301</td>\n",
       "      <td>T301</td>\n",
       "      <td>T402</td>\n",
       "      <td>T402</td>\n",
       "      <td>0066</td>\n",
       "      <td>0066</td>\n",
       "    </tr>\n",
       "    <tr>\n",
       "      <th>Issuer Squad</th>\n",
       "      <td>M</td>\n",
       "      <td>M</td>\n",
       "      <td>S</td>\n",
       "      <td>S</td>\n",
       "      <td>0000</td>\n",
       "      <td>0000</td>\n",
       "    </tr>\n",
       "    <tr>\n",
       "      <th>Violation Time</th>\n",
       "      <td>1115A</td>\n",
       "      <td>1142A</td>\n",
       "      <td>0518P</td>\n",
       "      <td>0513P</td>\n",
       "      <td>0929A</td>\n",
       "      <td>0909A</td>\n",
       "    </tr>\n",
       "    <tr>\n",
       "      <th>Time First Observed</th>\n",
       "      <td>NaN</td>\n",
       "      <td>NaN</td>\n",
       "      <td>NaN</td>\n",
       "      <td>NaN</td>\n",
       "      <td>NaN</td>\n",
       "      <td>NaN</td>\n",
       "    </tr>\n",
       "    <tr>\n",
       "      <th>Violation County</th>\n",
       "      <td>K</td>\n",
       "      <td>K</td>\n",
       "      <td>Q</td>\n",
       "      <td>Q</td>\n",
       "      <td>K</td>\n",
       "      <td>K</td>\n",
       "    </tr>\n",
       "    <tr>\n",
       "      <th>Violation In Front Of Or Opposite</th>\n",
       "      <td>O</td>\n",
       "      <td>O</td>\n",
       "      <td>F</td>\n",
       "      <td>F</td>\n",
       "      <td>O</td>\n",
       "      <td>O</td>\n",
       "    </tr>\n",
       "    <tr>\n",
       "      <th>House Number</th>\n",
       "      <td>957</td>\n",
       "      <td>957</td>\n",
       "      <td>167-06</td>\n",
       "      <td>167-06</td>\n",
       "      <td>1605</td>\n",
       "      <td>1689</td>\n",
       "    </tr>\n",
       "    <tr>\n",
       "      <th>Street Name</th>\n",
       "      <td>Eastern Pky</td>\n",
       "      <td>Eastern Pky</td>\n",
       "      <td>Hillside Ave</td>\n",
       "      <td>Hillside Ave</td>\n",
       "      <td>MCDONALD AVE</td>\n",
       "      <td>MCDONALD AVE</td>\n",
       "    </tr>\n",
       "    <tr>\n",
       "      <th>Intersecting Street</th>\n",
       "      <td>NaN</td>\n",
       "      <td>NaN</td>\n",
       "      <td>NaN</td>\n",
       "      <td>NaN</td>\n",
       "      <td>NaN</td>\n",
       "      <td>NaN</td>\n",
       "    </tr>\n",
       "    <tr>\n",
       "      <th>Date First Observed</th>\n",
       "      <td>0</td>\n",
       "      <td>0</td>\n",
       "      <td>0</td>\n",
       "      <td>0</td>\n",
       "      <td>0</td>\n",
       "      <td>0</td>\n",
       "    </tr>\n",
       "    <tr>\n",
       "      <th>Law Section</th>\n",
       "      <td>408</td>\n",
       "      <td>408</td>\n",
       "      <td>408</td>\n",
       "      <td>408</td>\n",
       "      <td>408</td>\n",
       "      <td>408</td>\n",
       "    </tr>\n",
       "    <tr>\n",
       "      <th>Sub Division</th>\n",
       "      <td>c</td>\n",
       "      <td>c</td>\n",
       "      <td>c</td>\n",
       "      <td>c</td>\n",
       "      <td>E5</td>\n",
       "      <td>F1</td>\n",
       "    </tr>\n",
       "    <tr>\n",
       "      <th>Violation Legal Code</th>\n",
       "      <td>NaN</td>\n",
       "      <td>NaN</td>\n",
       "      <td>NaN</td>\n",
       "      <td>NaN</td>\n",
       "      <td>NaN</td>\n",
       "      <td>NaN</td>\n",
       "    </tr>\n",
       "    <tr>\n",
       "      <th>Days Parking In Effect</th>\n",
       "      <td>YYYYYYY</td>\n",
       "      <td>YYYYYYY</td>\n",
       "      <td>YYYYY</td>\n",
       "      <td>YYYYY</td>\n",
       "      <td>BBBBBBB</td>\n",
       "      <td>BBBBBBB</td>\n",
       "    </tr>\n",
       "    <tr>\n",
       "      <th>From Hours In Effect</th>\n",
       "      <td>NaN</td>\n",
       "      <td>NaN</td>\n",
       "      <td>0400P</td>\n",
       "      <td>0400P</td>\n",
       "      <td>ALL</td>\n",
       "      <td>ALL</td>\n",
       "    </tr>\n",
       "    <tr>\n",
       "      <th>To Hours In Effect</th>\n",
       "      <td>NaN</td>\n",
       "      <td>NaN</td>\n",
       "      <td>0700P</td>\n",
       "      <td>0700P</td>\n",
       "      <td>ALL</td>\n",
       "      <td>ALL</td>\n",
       "    </tr>\n",
       "    <tr>\n",
       "      <th>Vehicle Color</th>\n",
       "      <td>RED</td>\n",
       "      <td>PURPL</td>\n",
       "      <td>BROWN</td>\n",
       "      <td>BROWN</td>\n",
       "      <td>BK</td>\n",
       "      <td>BK</td>\n",
       "    </tr>\n",
       "    <tr>\n",
       "      <th>Unregistered Vehicle?</th>\n",
       "      <td>NaN</td>\n",
       "      <td>NaN</td>\n",
       "      <td>NaN</td>\n",
       "      <td>NaN</td>\n",
       "      <td>0</td>\n",
       "      <td>0</td>\n",
       "    </tr>\n",
       "    <tr>\n",
       "      <th>Vehicle Year</th>\n",
       "      <td>0</td>\n",
       "      <td>0</td>\n",
       "      <td>0</td>\n",
       "      <td>0</td>\n",
       "      <td>0</td>\n",
       "      <td>0</td>\n",
       "    </tr>\n",
       "    <tr>\n",
       "      <th>Meter Number</th>\n",
       "      <td>NaN</td>\n",
       "      <td>NaN</td>\n",
       "      <td>NaN</td>\n",
       "      <td>NaN</td>\n",
       "      <td>-</td>\n",
       "      <td>-</td>\n",
       "    </tr>\n",
       "    <tr>\n",
       "      <th>Feet From Curb</th>\n",
       "      <td>0</td>\n",
       "      <td>0</td>\n",
       "      <td>0</td>\n",
       "      <td>0</td>\n",
       "      <td>0</td>\n",
       "      <td>0</td>\n",
       "    </tr>\n",
       "    <tr>\n",
       "      <th>Violation Post Code</th>\n",
       "      <td>A</td>\n",
       "      <td>V</td>\n",
       "      <td>E</td>\n",
       "      <td>E</td>\n",
       "      <td>NaN</td>\n",
       "      <td>NaN</td>\n",
       "    </tr>\n",
       "    <tr>\n",
       "      <th>Violation Description</th>\n",
       "      <td>14-No Standing</td>\n",
       "      <td>14-No Standing</td>\n",
       "      <td>14-No Standing</td>\n",
       "      <td>14-No Standing</td>\n",
       "      <td>46B-Double Parking (Com-100Ft)</td>\n",
       "      <td>46B-Double Parking (Com-100Ft)</td>\n",
       "    </tr>\n",
       "    <tr>\n",
       "      <th>No Standing or Stopping Violation</th>\n",
       "      <td>NaN</td>\n",
       "      <td>NaN</td>\n",
       "      <td>NaN</td>\n",
       "      <td>NaN</td>\n",
       "      <td>NaN</td>\n",
       "      <td>NaN</td>\n",
       "    </tr>\n",
       "    <tr>\n",
       "      <th>Hydrant Violation</th>\n",
       "      <td>NaN</td>\n",
       "      <td>NaN</td>\n",
       "      <td>NaN</td>\n",
       "      <td>NaN</td>\n",
       "      <td>NaN</td>\n",
       "      <td>NaN</td>\n",
       "    </tr>\n",
       "    <tr>\n",
       "      <th>Double Parking Violation</th>\n",
       "      <td>NaN</td>\n",
       "      <td>NaN</td>\n",
       "      <td>NaN</td>\n",
       "      <td>NaN</td>\n",
       "      <td>NaN</td>\n",
       "      <td>NaN</td>\n",
       "    </tr>\n",
       "  </tbody>\n",
       "</table>\n",
       "</div>"
      ],
      "text/plain": [
       "                                               2578103              3099896  \\\n",
       "Summons Number                              8533017212           8532663667   \n",
       "Plate ID                                        0094VA               0094VA   \n",
       "Registration State                                  NC                   NC   \n",
       "Plate Type                                         PAS                  PAS   \n",
       "Issue Date                         2017-04-18 00:00:00  2017-04-18 00:00:00   \n",
       "Violation Code                                      14                   14   \n",
       "Vehicle Body Type                                 SUBN                 SUBN   \n",
       "Vehicle Make                                     ACURA                ACURA   \n",
       "Issuing Agency                                       T                    T   \n",
       "Street Code1                                     38430                38430   \n",
       "Street Code2                                     86030                86030   \n",
       "Street Code3                                     75430                75430   \n",
       "Vehicle Expiration Date                       20170688             20170688   \n",
       "Violation Location                                0077                 0077   \n",
       "Violation Precinct                                  77                   77   \n",
       "Issuer Precinct                                     77                   77   \n",
       "Issuer Code                                     345162               357358   \n",
       "Issuer Command                                    T301                 T301   \n",
       "Issuer Squad                                         M                    M   \n",
       "Violation Time                                   1115A                1142A   \n",
       "Time First Observed                                NaN                  NaN   \n",
       "Violation County                                     K                    K   \n",
       "Violation In Front Of Or Opposite                    O                    O   \n",
       "House Number                                       957                  957   \n",
       "Street Name                                Eastern Pky          Eastern Pky   \n",
       "Intersecting Street                                NaN                  NaN   \n",
       "Date First Observed                                  0                    0   \n",
       "Law Section                                        408                  408   \n",
       "Sub Division                                         c                    c   \n",
       "Violation Legal Code                               NaN                  NaN   \n",
       "Days Parking In Effect                         YYYYYYY              YYYYYYY   \n",
       "From Hours In Effect                               NaN                  NaN   \n",
       "To Hours In Effect                                 NaN                  NaN   \n",
       "Vehicle Color                                      RED                PURPL   \n",
       "Unregistered Vehicle?                              NaN                  NaN   \n",
       "Vehicle Year                                         0                    0   \n",
       "Meter Number                                       NaN                  NaN   \n",
       "Feet From Curb                                       0                    0   \n",
       "Violation Post Code                                  A                    V   \n",
       "Violation Description                   14-No Standing       14-No Standing   \n",
       "No Standing or Stopping Violation                  NaN                  NaN   \n",
       "Hydrant Violation                                  NaN                  NaN   \n",
       "Double Parking Violation                           NaN                  NaN   \n",
       "\n",
       "                                               1256465              5429961  \\\n",
       "Summons Number                              8100540688           8100540676   \n",
       "Plate ID                                        009USH               009USH   \n",
       "Registration State                                  AK                   AK   \n",
       "Plate Type                                         PAS                  PAS   \n",
       "Issue Date                         2017-02-24 00:00:00  2017-02-24 00:00:00   \n",
       "Violation Code                                      14                   14   \n",
       "Vehicle Body Type                                 4DSD                 4DSD   \n",
       "Vehicle Make                                     TOYOT                TOYOT   \n",
       "Issuing Agency                                       T                    T   \n",
       "Street Code1                                     49690                49690   \n",
       "Street Code2                                     24390                24390   \n",
       "Street Code3                                     24490                24490   \n",
       "Vehicle Expiration Date                       20170288             20170288   \n",
       "Violation Location                                 103                  103   \n",
       "Violation Precinct                                 103                  103   \n",
       "Issuer Precinct                                    103                  103   \n",
       "Issuer Code                                     358569               358569   \n",
       "Issuer Command                                    T402                 T402   \n",
       "Issuer Squad                                         S                    S   \n",
       "Violation Time                                   0518P                0513P   \n",
       "Time First Observed                                NaN                  NaN   \n",
       "Violation County                                     Q                    Q   \n",
       "Violation In Front Of Or Opposite                    F                    F   \n",
       "House Number                                    167-06               167-06   \n",
       "Street Name                               Hillside Ave         Hillside Ave   \n",
       "Intersecting Street                                NaN                  NaN   \n",
       "Date First Observed                                  0                    0   \n",
       "Law Section                                        408                  408   \n",
       "Sub Division                                         c                    c   \n",
       "Violation Legal Code                               NaN                  NaN   \n",
       "Days Parking In Effect                           YYYYY                YYYYY   \n",
       "From Hours In Effect                             0400P                0400P   \n",
       "To Hours In Effect                               0700P                0700P   \n",
       "Vehicle Color                                    BROWN                BROWN   \n",
       "Unregistered Vehicle?                              NaN                  NaN   \n",
       "Vehicle Year                                         0                    0   \n",
       "Meter Number                                       NaN                  NaN   \n",
       "Feet From Curb                                       0                    0   \n",
       "Violation Post Code                                  E                    E   \n",
       "Violation Description                   14-No Standing       14-No Standing   \n",
       "No Standing or Stopping Violation                  NaN                  NaN   \n",
       "Hydrant Violation                                  NaN                  NaN   \n",
       "Double Parking Violation                           NaN                  NaN   \n",
       "\n",
       "                                                          6282528  \\\n",
       "Summons Number                                         1419473128   \n",
       "Plate ID                                                  0112055   \n",
       "Registration State                                             NJ   \n",
       "Plate Type                                                    PAS   \n",
       "Issue Date                                    2017-02-01 00:00:00   \n",
       "Violation Code                                                 46   \n",
       "Vehicle Body Type                                             SDN   \n",
       "Vehicle Make                                                CHEVR   \n",
       "Issuing Agency                                                  P   \n",
       "Street Code1                                                59430   \n",
       "Street Code2                                                 7530   \n",
       "Street Code3                                                74430   \n",
       "Vehicle Expiration Date                                         0   \n",
       "Violation Location                                           0066   \n",
       "Violation Precinct                                             66   \n",
       "Issuer Precinct                                                66   \n",
       "Issuer Code                                                931465   \n",
       "Issuer Command                                               0066   \n",
       "Issuer Squad                                                 0000   \n",
       "Violation Time                                              0929A   \n",
       "Time First Observed                                           NaN   \n",
       "Violation County                                                K   \n",
       "Violation In Front Of Or Opposite                               O   \n",
       "House Number                                                 1605   \n",
       "Street Name                                          MCDONALD AVE   \n",
       "Intersecting Street                                           NaN   \n",
       "Date First Observed                                             0   \n",
       "Law Section                                                   408   \n",
       "Sub Division                                                   E5   \n",
       "Violation Legal Code                                          NaN   \n",
       "Days Parking In Effect                                    BBBBBBB   \n",
       "From Hours In Effect                                          ALL   \n",
       "To Hours In Effect                                            ALL   \n",
       "Vehicle Color                                                  BK   \n",
       "Unregistered Vehicle?                                           0   \n",
       "Vehicle Year                                                    0   \n",
       "Meter Number                                                    -   \n",
       "Feet From Curb                                                  0   \n",
       "Violation Post Code                                           NaN   \n",
       "Violation Description              46B-Double Parking (Com-100Ft)   \n",
       "No Standing or Stopping Violation                             NaN   \n",
       "Hydrant Violation                                             NaN   \n",
       "Double Parking Violation                                      NaN   \n",
       "\n",
       "                                                          3756591  \n",
       "Summons Number                                         1419450487  \n",
       "Plate ID                                                  0112055  \n",
       "Registration State                                             NJ  \n",
       "Plate Type                                                    PAS  \n",
       "Issue Date                                    2017-02-01 00:00:00  \n",
       "Violation Code                                                 46  \n",
       "Vehicle Body Type                                             SDN  \n",
       "Vehicle Make                                                CHEVR  \n",
       "Issuing Agency                                                  P  \n",
       "Street Code1                                                59430  \n",
       "Street Code2                                                74430  \n",
       "Street Code3                                                14330  \n",
       "Vehicle Expiration Date                                         0  \n",
       "Violation Location                                           0066  \n",
       "Violation Precinct                                             66  \n",
       "Issuer Precinct                                                66  \n",
       "Issuer Code                                                931465  \n",
       "Issuer Command                                               0066  \n",
       "Issuer Squad                                                 0000  \n",
       "Violation Time                                              0909A  \n",
       "Time First Observed                                           NaN  \n",
       "Violation County                                                K  \n",
       "Violation In Front Of Or Opposite                               O  \n",
       "House Number                                                 1689  \n",
       "Street Name                                          MCDONALD AVE  \n",
       "Intersecting Street                                           NaN  \n",
       "Date First Observed                                             0  \n",
       "Law Section                                                   408  \n",
       "Sub Division                                                   F1  \n",
       "Violation Legal Code                                          NaN  \n",
       "Days Parking In Effect                                    BBBBBBB  \n",
       "From Hours In Effect                                          ALL  \n",
       "To Hours In Effect                                            ALL  \n",
       "Vehicle Color                                                  BK  \n",
       "Unregistered Vehicle?                                           0  \n",
       "Vehicle Year                                                    0  \n",
       "Meter Number                                                    -  \n",
       "Feet From Curb                                                  0  \n",
       "Violation Post Code                                           NaN  \n",
       "Violation Description              46B-Double Parking (Com-100Ft)  \n",
       "No Standing or Stopping Violation                             NaN  \n",
       "Hydrant Violation                                             NaN  \n",
       "Double Parking Violation                                      NaN  "
      ]
     },
     "execution_count": 20,
     "metadata": {},
     "output_type": "execute_result"
    }
   ],
   "source": [
    "# Look closer to duplicates\n",
    "df[df[['Plate ID', 'Registration State', 'Issue Date', 'Violation Code', 'Street Name', 'Violation Description']].duplicated(keep=False)].sort_values(['Plate ID']).head(6).T"
   ]
  },
  {
   "cell_type": "code",
   "execution_count": 21,
   "id": "4e0c560a",
   "metadata": {
    "execution": {
     "iopub.execute_input": "2021-11-16T16:54:29.745105Z",
     "iopub.status.busy": "2021-11-16T16:54:29.744267Z",
     "iopub.status.idle": "2021-11-16T16:54:35.184481Z",
     "shell.execute_reply": "2021-11-16T16:54:35.185204Z",
     "shell.execute_reply.started": "2021-11-16T16:24:32.057702Z"
    },
    "papermill": {
     "duration": 7.980419,
     "end_time": "2021-11-16T16:54:35.185446",
     "exception": false,
     "start_time": "2021-11-16T16:54:27.205027",
     "status": "completed"
    },
    "tags": []
   },
   "outputs": [
    {
     "name": "stdout",
     "output_type": "stream",
     "text": [
      " 1.02% of rows was dropped.\n"
     ]
    }
   ],
   "source": [
    "df_dropped = df.drop_duplicates(['Plate ID', 'Registration State', 'Issue Date', 'Violation Code', 'Street Name', 'Violation Description'])\n",
    "print(f\"{(1 - df_dropped.shape[0] / df.shape[0]) * 100: .2f}% of rows was dropped.\")"
   ]
  },
  {
   "cell_type": "markdown",
   "id": "7b858849",
   "metadata": {
    "papermill": {
     "duration": 0.049729,
     "end_time": "2021-11-16T16:54:35.285587",
     "exception": false,
     "start_time": "2021-11-16T16:54:35.235858",
     "status": "completed"
    },
    "tags": []
   },
   "source": [
    "### Dimension 5 (Validity)\n",
    "\n",
    "Data types are as described by business: \n",
    "1. Numbers: Summons Number, Violation Code, Street Code1, Street Code2, Street Code3, Vehicle Expiration Date, Violation Precinct, Issuer Precinct, Issuer Code, Date First Observed, Law Section, Vehicle Year, Feet From Curb; \n",
    "2. Date & Time: Issue Date; \n",
    "3. Plain text: all the rest columns. \n",
    "\n",
    "**We check the validity of our data types when use pd.read_csv() with right dtypes for every column according as described by business.**\n",
    "\n",
    "Additionally: Check for outliers (deviations);"
   ]
  },
  {
   "cell_type": "code",
   "execution_count": 22,
   "id": "f50dff2c",
   "metadata": {
    "execution": {
     "iopub.execute_input": "2021-11-16T16:54:35.389018Z",
     "iopub.status.busy": "2021-11-16T16:54:35.388287Z",
     "iopub.status.idle": "2021-11-16T16:54:35.396990Z",
     "shell.execute_reply": "2021-11-16T16:54:35.397565Z",
     "shell.execute_reply.started": "2021-11-16T16:24:40.765601Z"
    },
    "papermill": {
     "duration": 0.062272,
     "end_time": "2021-11-16T16:54:35.397741",
     "exception": false,
     "start_time": "2021-11-16T16:54:35.335469",
     "status": "completed"
    },
    "tags": []
   },
   "outputs": [
    {
     "name": "stdout",
     "output_type": "stream",
     "text": [
      "Column types match our business description.\n"
     ]
    }
   ],
   "source": [
    "int64_columns = []\n",
    "datetime_columns = []\n",
    "object_columns = []\n",
    "\n",
    "for column in df.columns:\n",
    "    if df[column].dtype == 'int64':\n",
    "        int64_columns.append(column)\n",
    "    elif df[column].dtype == '<M8[ns]' or df[column].dtype == 'datetime64':\n",
    "        datetime_columns.append(column)\n",
    "    elif df[column].dtype == 'O':\n",
    "        object_columns.append(column)\n",
    "\n",
    "# Throw error if columns numbers of different types doesn't match\n",
    "if len(int64_columns) == 13 and len(datetime_columns) == 1 and len(object_columns) == 29:\n",
    "    print('Column types match our business description.')\n",
    "else:\n",
    "    print('Some mistakes made in datatypes when comparing to our description.')"
   ]
  },
  {
   "cell_type": "code",
   "execution_count": 23,
   "id": "c2818f08",
   "metadata": {
    "execution": {
     "iopub.execute_input": "2021-11-16T16:54:35.499823Z",
     "iopub.status.busy": "2021-11-16T16:54:35.499072Z",
     "iopub.status.idle": "2021-11-16T16:54:37.809390Z",
     "shell.execute_reply": "2021-11-16T16:54:37.809859Z",
     "shell.execute_reply.started": "2021-11-16T16:24:40.777487Z"
    },
    "papermill": {
     "duration": 2.362713,
     "end_time": "2021-11-16T16:54:37.810033",
     "exception": false,
     "start_time": "2021-11-16T16:54:35.447320",
     "status": "completed"
    },
    "tags": []
   },
   "outputs": [
    {
     "data": {
      "text/html": [
       "<div>\n",
       "<style scoped>\n",
       "    .dataframe tbody tr th:only-of-type {\n",
       "        vertical-align: middle;\n",
       "    }\n",
       "\n",
       "    .dataframe tbody tr th {\n",
       "        vertical-align: top;\n",
       "    }\n",
       "\n",
       "    .dataframe thead th {\n",
       "        text-align: right;\n",
       "    }\n",
       "</style>\n",
       "<table border=\"1\" class=\"dataframe\">\n",
       "  <thead>\n",
       "    <tr style=\"text-align: right;\">\n",
       "      <th></th>\n",
       "      <th>Summons Number</th>\n",
       "      <th>Violation Code</th>\n",
       "      <th>Street Code1</th>\n",
       "      <th>Street Code2</th>\n",
       "      <th>Street Code3</th>\n",
       "      <th>Vehicle Expiration Date</th>\n",
       "      <th>Violation Precinct</th>\n",
       "      <th>Issuer Precinct</th>\n",
       "      <th>Issuer Code</th>\n",
       "      <th>Date First Observed</th>\n",
       "      <th>Law Section</th>\n",
       "      <th>Vehicle Year</th>\n",
       "      <th>Feet From Curb</th>\n",
       "    </tr>\n",
       "  </thead>\n",
       "  <tbody>\n",
       "    <tr>\n",
       "      <th>count</th>\n",
       "      <td>5.431918e+06</td>\n",
       "      <td>5.431918e+06</td>\n",
       "      <td>5.431918e+06</td>\n",
       "      <td>5.431918e+06</td>\n",
       "      <td>5.431918e+06</td>\n",
       "      <td>5.431918e+06</td>\n",
       "      <td>5.431918e+06</td>\n",
       "      <td>5.431918e+06</td>\n",
       "      <td>5.431918e+06</td>\n",
       "      <td>5.431918e+06</td>\n",
       "      <td>5.431918e+06</td>\n",
       "      <td>5.431918e+06</td>\n",
       "      <td>5.431918e+06</td>\n",
       "    </tr>\n",
       "    <tr>\n",
       "      <th>mean</th>\n",
       "      <td>7.116378e+09</td>\n",
       "      <td>3.505772e+01</td>\n",
       "      <td>2.410336e+04</td>\n",
       "      <td>2.039979e+04</td>\n",
       "      <td>2.042398e+04</td>\n",
       "      <td>2.565633e+07</td>\n",
       "      <td>4.586077e+01</td>\n",
       "      <td>4.768946e+01</td>\n",
       "      <td>3.378347e+05</td>\n",
       "      <td>3.595292e+05</td>\n",
       "      <td>5.356195e+02</td>\n",
       "      <td>1.574531e+03</td>\n",
       "      <td>1.289889e-01</td>\n",
       "    </tr>\n",
       "    <tr>\n",
       "      <th>std</th>\n",
       "      <td>2.294136e+09</td>\n",
       "      <td>1.933282e+01</td>\n",
       "      <td>2.264464e+04</td>\n",
       "      <td>2.194919e+04</td>\n",
       "      <td>2.198829e+04</td>\n",
       "      <td>2.650246e+07</td>\n",
       "      <td>4.033149e+01</td>\n",
       "      <td>6.158776e+01</td>\n",
       "      <td>2.099672e+05</td>\n",
       "      <td>2.668814e+06</td>\n",
       "      <td>2.827400e+02</td>\n",
       "      <td>8.282559e+02</td>\n",
       "      <td>8.626523e-01</td>\n",
       "    </tr>\n",
       "    <tr>\n",
       "      <th>min</th>\n",
       "      <td>1.002885e+09</td>\n",
       "      <td>0.000000e+00</td>\n",
       "      <td>0.000000e+00</td>\n",
       "      <td>0.000000e+00</td>\n",
       "      <td>0.000000e+00</td>\n",
       "      <td>0.000000e+00</td>\n",
       "      <td>0.000000e+00</td>\n",
       "      <td>0.000000e+00</td>\n",
       "      <td>0.000000e+00</td>\n",
       "      <td>0.000000e+00</td>\n",
       "      <td>4.000000e+01</td>\n",
       "      <td>0.000000e+00</td>\n",
       "      <td>0.000000e+00</td>\n",
       "    </tr>\n",
       "    <tr>\n",
       "      <th>25%</th>\n",
       "      <td>5.096371e+09</td>\n",
       "      <td>2.000000e+01</td>\n",
       "      <td>5.780000e+03</td>\n",
       "      <td>0.000000e+00</td>\n",
       "      <td>0.000000e+00</td>\n",
       "      <td>2.017021e+07</td>\n",
       "      <td>1.000000e+01</td>\n",
       "      <td>6.000000e+00</td>\n",
       "      <td>3.462100e+05</td>\n",
       "      <td>0.000000e+00</td>\n",
       "      <td>4.080000e+02</td>\n",
       "      <td>1.999000e+03</td>\n",
       "      <td>0.000000e+00</td>\n",
       "    </tr>\n",
       "    <tr>\n",
       "      <th>50%</th>\n",
       "      <td>8.483102e+09</td>\n",
       "      <td>3.600000e+01</td>\n",
       "      <td>1.821000e+04</td>\n",
       "      <td>1.401000e+04</td>\n",
       "      <td>1.403000e+04</td>\n",
       "      <td>2.017123e+07</td>\n",
       "      <td>3.400000e+01</td>\n",
       "      <td>3.200000e+01</td>\n",
       "      <td>3.586450e+05</td>\n",
       "      <td>0.000000e+00</td>\n",
       "      <td>4.080000e+02</td>\n",
       "      <td>2.009000e+03</td>\n",
       "      <td>0.000000e+00</td>\n",
       "    </tr>\n",
       "    <tr>\n",
       "      <th>75%</th>\n",
       "      <td>8.521005e+09</td>\n",
       "      <td>4.000000e+01</td>\n",
       "      <td>3.553000e+04</td>\n",
       "      <td>3.397000e+04</td>\n",
       "      <td>3.403000e+04</td>\n",
       "      <td>2.018103e+07</td>\n",
       "      <td>7.900000e+01</td>\n",
       "      <td>7.900000e+01</td>\n",
       "      <td>3.635230e+05</td>\n",
       "      <td>0.000000e+00</td>\n",
       "      <td>4.080000e+02</td>\n",
       "      <td>2.014000e+03</td>\n",
       "      <td>0.000000e+00</td>\n",
       "    </tr>\n",
       "    <tr>\n",
       "      <th>max</th>\n",
       "      <td>8.585600e+09</td>\n",
       "      <td>9.900000e+01</td>\n",
       "      <td>9.802000e+04</td>\n",
       "      <td>9.831000e+04</td>\n",
       "      <td>9.828000e+04</td>\n",
       "      <td>8.888889e+07</td>\n",
       "      <td>9.180000e+02</td>\n",
       "      <td>9.920000e+02</td>\n",
       "      <td>9.999920e+05</td>\n",
       "      <td>2.020052e+07</td>\n",
       "      <td>6.408000e+03</td>\n",
       "      <td>2.069000e+03</td>\n",
       "      <td>1.600000e+01</td>\n",
       "    </tr>\n",
       "  </tbody>\n",
       "</table>\n",
       "</div>"
      ],
      "text/plain": [
       "       Summons Number  Violation Code  Street Code1  Street Code2  \\\n",
       "count    5.431918e+06    5.431918e+06  5.431918e+06  5.431918e+06   \n",
       "mean     7.116378e+09    3.505772e+01  2.410336e+04  2.039979e+04   \n",
       "std      2.294136e+09    1.933282e+01  2.264464e+04  2.194919e+04   \n",
       "min      1.002885e+09    0.000000e+00  0.000000e+00  0.000000e+00   \n",
       "25%      5.096371e+09    2.000000e+01  5.780000e+03  0.000000e+00   \n",
       "50%      8.483102e+09    3.600000e+01  1.821000e+04  1.401000e+04   \n",
       "75%      8.521005e+09    4.000000e+01  3.553000e+04  3.397000e+04   \n",
       "max      8.585600e+09    9.900000e+01  9.802000e+04  9.831000e+04   \n",
       "\n",
       "       Street Code3  Vehicle Expiration Date  Violation Precinct  \\\n",
       "count  5.431918e+06             5.431918e+06        5.431918e+06   \n",
       "mean   2.042398e+04             2.565633e+07        4.586077e+01   \n",
       "std    2.198829e+04             2.650246e+07        4.033149e+01   \n",
       "min    0.000000e+00             0.000000e+00        0.000000e+00   \n",
       "25%    0.000000e+00             2.017021e+07        1.000000e+01   \n",
       "50%    1.403000e+04             2.017123e+07        3.400000e+01   \n",
       "75%    3.403000e+04             2.018103e+07        7.900000e+01   \n",
       "max    9.828000e+04             8.888889e+07        9.180000e+02   \n",
       "\n",
       "       Issuer Precinct   Issuer Code  Date First Observed   Law Section  \\\n",
       "count     5.431918e+06  5.431918e+06         5.431918e+06  5.431918e+06   \n",
       "mean      4.768946e+01  3.378347e+05         3.595292e+05  5.356195e+02   \n",
       "std       6.158776e+01  2.099672e+05         2.668814e+06  2.827400e+02   \n",
       "min       0.000000e+00  0.000000e+00         0.000000e+00  4.000000e+01   \n",
       "25%       6.000000e+00  3.462100e+05         0.000000e+00  4.080000e+02   \n",
       "50%       3.200000e+01  3.586450e+05         0.000000e+00  4.080000e+02   \n",
       "75%       7.900000e+01  3.635230e+05         0.000000e+00  4.080000e+02   \n",
       "max       9.920000e+02  9.999920e+05         2.020052e+07  6.408000e+03   \n",
       "\n",
       "       Vehicle Year  Feet From Curb  \n",
       "count  5.431918e+06    5.431918e+06  \n",
       "mean   1.574531e+03    1.289889e-01  \n",
       "std    8.282559e+02    8.626523e-01  \n",
       "min    0.000000e+00    0.000000e+00  \n",
       "25%    1.999000e+03    0.000000e+00  \n",
       "50%    2.009000e+03    0.000000e+00  \n",
       "75%    2.014000e+03    0.000000e+00  \n",
       "max    2.069000e+03    1.600000e+01  "
      ]
     },
     "execution_count": 23,
     "metadata": {},
     "output_type": "execute_result"
    }
   ],
   "source": [
    "# Check statistics for numbers columns\n",
    "df.describe()"
   ]
  },
  {
   "cell_type": "markdown",
   "id": "cf0aea7a",
   "metadata": {
    "papermill": {
     "duration": 0.049231,
     "end_time": "2021-11-16T16:54:37.908800",
     "exception": false,
     "start_time": "2021-11-16T16:54:37.859569",
     "status": "completed"
    },
    "tags": []
   },
   "source": [
    "#### Check outliers:\n",
    "\n",
    "**Unusual values in the columns:**\n",
    "\n",
    "\"Feet From Curb\" - usual value is 0, but max is 16\n",
    "\n",
    "\"Vehicle Year\" - min value is 0 and max value is 2069\n",
    "\n",
    "\"Date First Observed\" - strange format, looks like data 2022061\n",
    "\n",
    "\"Vehicle Expiration Date\" - strange max value 88888888"
   ]
  },
  {
   "cell_type": "code",
   "execution_count": 24,
   "id": "561a5243",
   "metadata": {
    "execution": {
     "iopub.execute_input": "2021-11-16T16:54:38.044054Z",
     "iopub.status.busy": "2021-11-16T16:54:38.011512Z",
     "iopub.status.idle": "2021-11-16T16:54:38.046271Z",
     "shell.execute_reply": "2021-11-16T16:54:38.046988Z",
     "shell.execute_reply.started": "2021-11-16T16:24:43.267547Z"
    },
    "papermill": {
     "duration": 0.088681,
     "end_time": "2021-11-16T16:54:38.047172",
     "exception": false,
     "start_time": "2021-11-16T16:54:37.958491",
     "status": "completed"
    },
    "tags": []
   },
   "outputs": [
    {
     "data": {
      "text/plain": [
       "0     5286820\n",
       "5       31167\n",
       "6       19145\n",
       "4       17172\n",
       "3       16845\n",
       "2       14816\n",
       "7       14314\n",
       "1       11965\n",
       "8       11822\n",
       "9        4910\n",
       "10       2510\n",
       "11        243\n",
       "12        117\n",
       "13         42\n",
       "15         23\n",
       "14          6\n",
       "16          1\n",
       "Name: Feet From Curb, dtype: int64"
      ]
     },
     "execution_count": 24,
     "metadata": {},
     "output_type": "execute_result"
    }
   ],
   "source": [
    "# Check \"Feet From Curb\" values\n",
    "df['Feet From Curb'].value_counts()"
   ]
  },
  {
   "cell_type": "markdown",
   "id": "36be3f01",
   "metadata": {
    "papermill": {
     "duration": 0.049818,
     "end_time": "2021-11-16T16:54:38.147864",
     "exception": false,
     "start_time": "2021-11-16T16:54:38.098046",
     "status": "completed"
    },
    "tags": []
   },
   "source": [
    "We can see that everithing is ok with this values.\n",
    "\n",
    "Now let's check what stored in 'Vehicle year' column."
   ]
  },
  {
   "cell_type": "code",
   "execution_count": 25,
   "id": "663d7ba2",
   "metadata": {
    "execution": {
     "iopub.execute_input": "2021-11-16T16:54:38.251860Z",
     "iopub.status.busy": "2021-11-16T16:54:38.251161Z",
     "iopub.status.idle": "2021-11-16T16:54:38.978026Z",
     "shell.execute_reply": "2021-11-16T16:54:38.977410Z",
     "shell.execute_reply.started": "2021-11-16T16:24:43.305966Z"
    },
    "papermill": {
     "duration": 0.780289,
     "end_time": "2021-11-16T16:54:38.978181",
     "exception": false,
     "start_time": "2021-11-16T16:54:38.197892",
     "status": "completed"
    },
    "tags": []
   },
   "outputs": [
    {
     "name": "stdout",
     "output_type": "stream",
     "text": [
      "Year bigger than 2017 - 2563 counts\n",
      "Year equal to 0 - 1177265 counts \n",
      "Year bigger than 0 and less than 1970 0 counts\n"
     ]
    }
   ],
   "source": [
    "# Should replace this values with median\n",
    "print(f\"Year bigger than 2017 - {df[(df['Vehicle Year'] > 2017)]['Vehicle Year'].count()} counts\")\n",
    "print(f\"Year equal to 0 - {df[(df['Vehicle Year'] == 0)]['Vehicle Year'].count()} counts \")\n",
    "print(f\"Year bigger than 0 and less than 1970 {df[(df['Vehicle Year'] != 0) & (df['Vehicle Year'] < 1970)]['Vehicle Year'].count()} counts\")"
   ]
  },
  {
   "cell_type": "code",
   "execution_count": 26,
   "id": "b4f7cf2a",
   "metadata": {
    "execution": {
     "iopub.execute_input": "2021-11-16T16:54:39.085370Z",
     "iopub.status.busy": "2021-11-16T16:54:39.084352Z",
     "iopub.status.idle": "2021-11-16T16:54:39.121330Z",
     "shell.execute_reply": "2021-11-16T16:54:39.121864Z",
     "shell.execute_reply.started": "2021-11-16T16:24:44.117508Z"
    },
    "papermill": {
     "duration": 0.092098,
     "end_time": "2021-11-16T16:54:39.122034",
     "exception": false,
     "start_time": "2021-11-16T16:54:39.029936",
     "status": "completed"
    },
    "tags": []
   },
   "outputs": [
    {
     "data": {
      "text/plain": [
       "0           5335096\n",
       "20170125        960\n",
       "20170118        957\n",
       "20170201        947\n",
       "20170111        923\n",
       "             ...   \n",
       "20160227          1\n",
       "20140220          1\n",
       "20140202          1\n",
       "20170231          1\n",
       "20171228          1\n",
       "Name: Date First Observed, Length: 247, dtype: int64"
      ]
     },
     "execution_count": 26,
     "metadata": {},
     "output_type": "execute_result"
    }
   ],
   "source": [
    "# Wrong format for column 'Date First Observed', should be datetime\n",
    "df[\"Date First Observed\"].value_counts()"
   ]
  },
  {
   "cell_type": "markdown",
   "id": "a6ae8fe6",
   "metadata": {
    "papermill": {
     "duration": 0.050271,
     "end_time": "2021-11-16T16:54:39.223001",
     "exception": false,
     "start_time": "2021-11-16T16:54:39.172730",
     "status": "completed"
    },
    "tags": []
   },
   "source": [
    "A lot of '0' values. \n",
    "Definitely this value used to replce Null values."
   ]
  },
  {
   "cell_type": "code",
   "execution_count": 27,
   "id": "57a5be34",
   "metadata": {
    "execution": {
     "iopub.execute_input": "2021-11-16T16:54:39.329352Z",
     "iopub.status.busy": "2021-11-16T16:54:39.328283Z",
     "iopub.status.idle": "2021-11-16T16:54:39.392433Z",
     "shell.execute_reply": "2021-11-16T16:54:39.392942Z",
     "shell.execute_reply.started": "2021-11-16T16:24:44.160691Z"
    },
    "papermill": {
     "duration": 0.118344,
     "end_time": "2021-11-16T16:54:39.393110",
     "exception": false,
     "start_time": "2021-11-16T16:54:39.274766",
     "status": "completed"
    },
    "tags": []
   },
   "outputs": [
    {
     "data": {
      "text/plain": [
       "0           1078077\n",
       "88880088     576057\n",
       "20170088     168191\n",
       "88888888     167587\n",
       "20170930      81742\n",
       "             ...   \n",
       "20110121          1\n",
       "20150514          1\n",
       "20370630          1\n",
       "20220121          1\n",
       "20120112          1\n",
       "Name: Vehicle Expiration Date, Length: 3041, dtype: int64"
      ]
     },
     "execution_count": 27,
     "metadata": {},
     "output_type": "execute_result"
    }
   ],
   "source": [
    "# Wrong format for column 'Vehicle Expiration Date', should be datetime\n",
    "df[\"Vehicle Expiration Date\"].value_counts()"
   ]
  },
  {
   "cell_type": "markdown",
   "id": "bf6b2343",
   "metadata": {
    "papermill": {
     "duration": 0.050788,
     "end_time": "2021-11-16T16:54:39.495747",
     "exception": false,
     "start_time": "2021-11-16T16:54:39.444959",
     "status": "completed"
    },
    "tags": []
   },
   "source": [
    "A lot of strange values:\n",
    "'0', '888888', '88880088', etc. It is possible to replace it with one."
   ]
  },
  {
   "cell_type": "markdown",
   "id": "4af29e8f",
   "metadata": {
    "papermill": {
     "duration": 0.050713,
     "end_time": "2021-11-16T16:54:39.597786",
     "exception": false,
     "start_time": "2021-11-16T16:54:39.547073",
     "status": "completed"
    },
    "tags": []
   },
   "source": [
    "### Dimension 6 (Accuracy)\n",
    "\n",
    "The degree to which data correctly describes the ‘real world’ object or event being\n",
    "described.\n",
    "\n",
    "1. The numbers of houses are real.\n",
    "\n",
    "\n",
    "To check if numbers of house is real, we will use regex:\n",
    "https://regex101.com/r/N1gAqn/1.\n",
    "\n",
    "Valid number:\n",
    "- a number that starts with a non-zero digit\n",
    "- optionally, a separator followed by another number starting with a non-zero digit ; the separator can be either - or / and can be surrounded by space characters\n",
    "- optionally, a single lowercase or uppercase letter that can be preceded by a space character\n"
   ]
  },
  {
   "cell_type": "code",
   "execution_count": 28,
   "id": "ddfe2581",
   "metadata": {
    "execution": {
     "iopub.execute_input": "2021-11-16T16:54:39.703177Z",
     "iopub.status.busy": "2021-11-16T16:54:39.702564Z",
     "iopub.status.idle": "2021-11-16T16:54:46.116072Z",
     "shell.execute_reply": "2021-11-16T16:54:46.114641Z",
     "shell.execute_reply.started": "2021-11-16T16:24:44.236492Z"
    },
    "papermill": {
     "duration": 6.467344,
     "end_time": "2021-11-16T16:54:46.116330",
     "exception": false,
     "start_time": "2021-11-16T16:54:39.648986",
     "status": "completed"
    },
    "tags": []
   },
   "outputs": [
    {
     "name": "stdout",
     "output_type": "stream",
     "text": [
      "\n",
      "Percantage of rows with correct 'House Number' is 69.05%\n"
     ]
    }
   ],
   "source": [
    "# Check percentage of rows with correct house number in \"House Number\" column\n",
    "perc_rows_with_2_letters = df['House Number'].str \\\n",
    "                                             .match(r'^[1-9]\\d*(?: ?(?:[a-z]|[/-] ?\\d+[a-z]?))?$') \\\n",
    "                                             .sum() / df.shape[0] * 100\n",
    "print(f\"\\nPercantage of rows with correct 'House Number' is {perc_rows_with_2_letters:.2f}%\")"
   ]
  },
  {
   "cell_type": "markdown",
   "id": "44ed4229",
   "metadata": {
    "papermill": {
     "duration": 0.051484,
     "end_time": "2021-11-16T16:54:46.219587",
     "exception": false,
     "start_time": "2021-11-16T16:54:46.168103",
     "status": "completed"
    },
    "tags": []
   },
   "source": [
    "## TASK #2\n",
    "Using data described above (2017 year only) filter it according to business rules. As a result, you should receive check results for every business rule with DataFrame containing deviations.\n",
    "\n",
    "Business rules that out data MUST follow:\n",
    "1. 'Vehicle Make' column should not be 'TOYOT'.\n",
    "2. No fully nulls columns.\n",
    "3. No nulls or 'BLANKPLATE' in the Plate ID column.\n",
    "4. \"Registration state\": should be only from 50 USA states, named as in ANSI standard INCITS 38:2009 (https://en.wikipedia.org/wiki/List_of_U.S._state_and_territory_abbreviations).\n",
    "5. \"Plate type\" only PAS, COM.\n",
    "6. Issue date - convert to dates. Find min/max.\n",
    "7. No unregistered vehicle in the \"Unregistered Vehicle\" column (1 means unregistered vehicle, 0 means registered vehicle)."
   ]
  },
  {
   "cell_type": "code",
   "execution_count": 29,
   "id": "a08e9a36",
   "metadata": {
    "execution": {
     "iopub.execute_input": "2021-11-16T16:54:47.191202Z",
     "iopub.status.busy": "2021-11-16T16:54:47.190482Z",
     "iopub.status.idle": "2021-11-16T16:54:49.259328Z",
     "shell.execute_reply": "2021-11-16T16:54:49.258726Z",
     "shell.execute_reply.started": "2021-11-16T16:24:50.702312Z"
    },
    "papermill": {
     "duration": 2.988094,
     "end_time": "2021-11-16T16:54:49.259491",
     "exception": false,
     "start_time": "2021-11-16T16:54:46.271397",
     "status": "completed"
    },
    "tags": []
   },
   "outputs": [],
   "source": [
    "# 1. 'Vehicle Make' column should not be 'TOYOT'.\n",
    "df = df[df['Vehicle Make'] != 'TOYOT']\n",
    "\n",
    "assert 'TOYOT' not in df['Vehicle Make'].values"
   ]
  },
  {
   "cell_type": "code",
   "execution_count": 30,
   "id": "14854774",
   "metadata": {
    "execution": {
     "iopub.execute_input": "2021-11-16T16:54:49.368907Z",
     "iopub.status.busy": "2021-11-16T16:54:49.368199Z",
     "iopub.status.idle": "2021-11-16T16:55:17.845716Z",
     "shell.execute_reply": "2021-11-16T16:55:17.846279Z",
     "shell.execute_reply.started": "2021-11-16T16:24:53.911397Z"
    },
    "papermill": {
     "duration": 28.533007,
     "end_time": "2021-11-16T16:55:17.846531",
     "exception": false,
     "start_time": "2021-11-16T16:54:49.313524",
     "status": "completed"
    },
    "tags": []
   },
   "outputs": [],
   "source": [
    "# 2. No fully nulls columns.\n",
    "df = df.dropna(how='all') \n",
    "\n",
    "assert df.isna().all(axis=1).sum() == 0"
   ]
  },
  {
   "cell_type": "code",
   "execution_count": 31,
   "id": "c71e3bb1",
   "metadata": {
    "execution": {
     "iopub.execute_input": "2021-11-16T16:55:19.599409Z",
     "iopub.status.busy": "2021-11-16T16:55:19.598724Z",
     "iopub.status.idle": "2021-11-16T16:55:23.975848Z",
     "shell.execute_reply": "2021-11-16T16:55:23.976420Z",
     "shell.execute_reply.started": "2021-11-16T16:25:22.849131Z"
    },
    "papermill": {
     "duration": 6.077012,
     "end_time": "2021-11-16T16:55:23.976594",
     "exception": false,
     "start_time": "2021-11-16T16:55:17.899582",
     "status": "completed"
    },
    "tags": []
   },
   "outputs": [],
   "source": [
    "# 3. No nulls or 'BLANKPLATE' in the Plate ID column.\n",
    "df = df[(df['Plate ID'] != 'BLANKPLATE') & (df['Plate ID'].notnull())]\n",
    "\n",
    "assert 'BLANKPLATE' not in df['Plate ID'].values\n",
    "assert df['Plate ID'].isnull().sum() == 0"
   ]
  },
  {
   "cell_type": "code",
   "execution_count": 32,
   "id": "aca94784",
   "metadata": {
    "execution": {
     "iopub.execute_input": "2021-11-16T16:55:24.450225Z",
     "iopub.status.busy": "2021-11-16T16:55:24.448902Z",
     "iopub.status.idle": "2021-11-16T16:55:27.168187Z",
     "shell.execute_reply": "2021-11-16T16:55:27.167620Z",
     "shell.execute_reply.started": "2021-11-16T16:25:27.947157Z"
    },
    "papermill": {
     "duration": 3.138268,
     "end_time": "2021-11-16T16:55:27.168369",
     "exception": false,
     "start_time": "2021-11-16T16:55:24.030101",
     "status": "completed"
    },
    "tags": []
   },
   "outputs": [],
   "source": [
    "# 4. \"Registration state\": should be only from 50 USA states, named as in ANSI standard INCITS 38:2009\n",
    "states = [\"AL\", \"AK\", \"AZ\", \"AR\", \"CA\", \"CO\", \"CT\", \"DC\", \"DE\", \"FL\", \"GA\", \n",
    "          \"HI\", \"ID\", \"IL\", \"IN\", \"IA\", \"KS\", \"KY\", \"LA\", \"ME\", \"MD\", \n",
    "          \"MA\", \"MI\", \"MN\", \"MS\", \"MO\", \"MT\", \"NE\", \"NV\", \"NH\", \"NJ\", \n",
    "          \"NM\", \"NY\", \"NC\", \"ND\", \"OH\", \"OK\", \"OR\", \"PA\", \"RI\", \"SC\", \n",
    "          \"SD\", \"TN\", \"TX\", \"UT\", \"VT\", \"VA\", \"WA\", \"WV\", \"WI\", \"WY\"]\n",
    "\n",
    "df = df[df['Registration State'].isin(states)]\n",
    "\n",
    "assert len(df['Registration State'].unique()) == len(states)\n",
    "assert set(df['Registration State'].values) == set(states)"
   ]
  },
  {
   "cell_type": "code",
   "execution_count": 33,
   "id": "e8720312",
   "metadata": {
    "execution": {
     "iopub.execute_input": "2021-11-16T16:55:27.579535Z",
     "iopub.status.busy": "2021-11-16T16:55:27.578431Z",
     "iopub.status.idle": "2021-11-16T16:55:29.839792Z",
     "shell.execute_reply": "2021-11-16T16:55:29.840299Z",
     "shell.execute_reply.started": "2021-11-16T16:25:30.990617Z"
    },
    "papermill": {
     "duration": 2.620246,
     "end_time": "2021-11-16T16:55:29.840500",
     "exception": false,
     "start_time": "2021-11-16T16:55:27.220254",
     "status": "completed"
    },
    "tags": []
   },
   "outputs": [],
   "source": [
    "# 5. \"Plate type\" only PAS, COM.\n",
    "df = df[df['Plate Type'].isin(['PAS', 'COM'])]\n",
    "\n",
    "assert set(df['Plate Type'].values) == set(['PAS', 'COM'])"
   ]
  },
  {
   "cell_type": "code",
   "execution_count": 34,
   "id": "bd4682aa",
   "metadata": {
    "execution": {
     "iopub.execute_input": "2021-11-16T16:55:29.949829Z",
     "iopub.status.busy": "2021-11-16T16:55:29.948846Z",
     "iopub.status.idle": "2021-11-16T16:55:32.807313Z",
     "shell.execute_reply": "2021-11-16T16:55:32.806683Z",
     "shell.execute_reply.started": "2021-11-16T16:25:33.507078Z"
    },
    "papermill": {
     "duration": 2.913027,
     "end_time": "2021-11-16T16:55:32.807485",
     "exception": false,
     "start_time": "2021-11-16T16:55:29.894458",
     "status": "completed"
    },
    "tags": []
   },
   "outputs": [
    {
     "name": "stdout",
     "output_type": "stream",
     "text": [
      "Min date in DataFrame - 2017-01-01 00:00:00\n",
      "Max date in DataFrame - 2017-12-31 00:00:00\n"
     ]
    }
   ],
   "source": [
    "# 6. Issue date - convert to dates. Find min/max.\n",
    "pd.to_datetime(df['Issue Date'])\n",
    "print(f\"Min date in DataFrame - {df['Issue Date'].min()}\")\n",
    "print(f\"Max date in DataFrame - {df['Issue Date'].max()}\")\n",
    "\n",
    "assert df['Issue Date'].dtype == 'datetime64[ns]'"
   ]
  },
  {
   "cell_type": "code",
   "execution_count": 35,
   "id": "a8e747f7",
   "metadata": {
    "execution": {
     "iopub.execute_input": "2021-11-16T16:55:33.106437Z",
     "iopub.status.busy": "2021-11-16T16:55:33.105735Z",
     "iopub.status.idle": "2021-11-16T16:55:33.351657Z",
     "shell.execute_reply": "2021-11-16T16:55:33.351067Z",
     "shell.execute_reply.started": "2021-11-16T16:25:35.277139Z"
    },
    "papermill": {
     "duration": 0.492208,
     "end_time": "2021-11-16T16:55:33.351810",
     "exception": false,
     "start_time": "2021-11-16T16:55:32.859602",
     "status": "completed"
    },
    "tags": []
   },
   "outputs": [],
   "source": [
    "# 7. No unregistered vehicle in the \"Unregistered Vehicle\" column (1 means unregistered vehicle, 0 means registered vehicle).\n",
    "df[df['Unregistered Vehicle?'] == 0]\n",
    "\n",
    "assert 1 not in df['Unregistered Vehicle?'].values"
   ]
  },
  {
   "cell_type": "code",
   "execution_count": 36,
   "id": "909bcaf4",
   "metadata": {
    "execution": {
     "iopub.execute_input": "2021-11-16T16:55:33.460791Z",
     "iopub.status.busy": "2021-11-16T16:55:33.459953Z",
     "iopub.status.idle": "2021-11-16T16:55:33.464278Z",
     "shell.execute_reply": "2021-11-16T16:55:33.463458Z",
     "shell.execute_reply.started": "2021-11-16T16:25:35.720505Z"
    },
    "papermill": {
     "duration": 0.060787,
     "end_time": "2021-11-16T16:55:33.464487",
     "exception": false,
     "start_time": "2021-11-16T16:55:33.403700",
     "status": "completed"
    },
    "tags": []
   },
   "outputs": [
    {
     "name": "stdout",
     "output_type": "stream",
     "text": [
      "DataFrame has 4455822 rows after filtering.\n"
     ]
    }
   ],
   "source": [
    "print(f'DataFrame has {df.shape[0]} rows after filtering.')"
   ]
  }
 ],
 "metadata": {
  "kernelspec": {
   "display_name": "Python 3",
   "language": "python",
   "name": "python3"
  },
  "language_info": {
   "codemirror_mode": {
    "name": "ipython",
    "version": 3
   },
   "file_extension": ".py",
   "mimetype": "text/x-python",
   "name": "python",
   "nbconvert_exporter": "python",
   "pygments_lexer": "ipython3",
   "version": "3.7.10"
  },
  "papermill": {
   "default_parameters": {},
   "duration": 412.17458,
   "end_time": "2021-11-16T16:55:35.535828",
   "environment_variables": {},
   "exception": null,
   "input_path": "__notebook__.ipynb",
   "output_path": "__notebook__.ipynb",
   "parameters": {},
   "start_time": "2021-11-16T16:48:43.361248",
   "version": "2.3.3"
  }
 },
 "nbformat": 4,
 "nbformat_minor": 5
}
