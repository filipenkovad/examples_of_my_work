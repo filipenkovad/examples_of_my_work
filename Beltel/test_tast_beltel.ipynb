{
 "cells": [
  {
   "cell_type": "markdown",
   "source": [
    "Тестовое задание для компании BELTEL.\n",
    "\n",
    "Выполнил:\n",
    "Филипенко Вадим\n",
    "filipenko.vad@gmail.com\n",
    "89119526959"
   ],
   "metadata": {
    "collapsed": false
   }
  },
  {
   "cell_type": "code",
   "execution_count": 1,
   "outputs": [],
   "source": [
    "import os\n",
    "import pandas as pd\n",
    "import json"
   ],
   "metadata": {
    "collapsed": false,
    "pycharm": {
     "name": "#%%\n"
    }
   }
  },
  {
   "cell_type": "markdown",
   "source": [
    "Алгоритм парсинга для одного файла:\n",
    "1. Загрузить файл json как словарь.\n",
    "2. Создать словарь для хранения всей извлечённой из файла информации (добавить необходимые ключи, если их нет).\n",
    "3. Считать из преобразованного файла json общую информацию о файле(Filename, DateBegin, DateEnd, PWCcode и количество элементов в массиве GoodsLists).\n",
    "4. Для каждого элемента массива GoodsLists (перебор элементов по range(0,qty_goods_lists)) вытащить информацию о DiscountType, DiscountValue, Value, FirstValue, LessOrEqua. Сохранить эту информацию в переменную, обработав исключения (в случае отсутствия поля, вставлять None).\n",
    "5. Считать количество элементов в массиве Prices.\n",
    "6. Для каждого элемента массива Prices (перебор элементов по range(0, QtyPrices)) извлечь \"Data\" и внутри этого списка, с помощью  перебора по QtyGoods извлечь 4 столбца \"Item\", \"SalePriceBeforePromo\", \"SalePriceTimePromo\", \"DatePriceBeforePromo\", а дальше добавляем их к остальным извлечённым столбцам в итоговый словарь, хранящий все результаты для каждого из элементов \"Data\"."
   ],
   "metadata": {
    "collapsed": false
   }
  },
  {
   "cell_type": "code",
   "execution_count": 2,
   "metadata": {
    "jupyter": {
     "outputs_hidden": false
    },
    "pycharm": {
     "name": "#%%\n"
    }
   },
   "outputs": [],
   "source": [
    "# Функция для извлечения данных из JSON файла\n",
    "def parse_promo_json(file_to_parse, result, filename):\n",
    "    '''\n",
    "    Извлекает информацию из JSON файла определённого формата и сохраняет в словарь.\n",
    "\n",
    "    :param json_file: Путь к файлу, из которого необходимо извлечь информацию.\n",
    "    :param result: Словарь, в который записываются извлечённые данные.\n",
    "    :param filename: Имя файла из которого извлекают данные\n",
    "    :return: Возвращает словарь с извлечёнными данными\n",
    "    '''\n",
    "    with open(file_to_parse) as f:\n",
    "        json_file = json.load(f)\n",
    "\n",
    "    #Создание необходимых ключей в словаре, если их нет\n",
    "    columns = ['Item', 'SalePriceBeforePromo', 'SalePriceTimePromo',\n",
    "               'DatePriceBeforePromo', 'ObjCode', 'DiscountType', 'DiscountValue',\n",
    "               'DateBegin', 'DateEnd', 'PWCcode', 'Value', 'FirstValue', 'LessOrEqual',\n",
    "               'File']\n",
    "    for column in columns:\n",
    "        if column not in result:\n",
    "            result[column] = []\n",
    "\n",
    "    #Данные, общие для всего файла\n",
    "    date_begin = json_file['GeneralInfo']['DateBegin']\n",
    "    date_end = json_file['GeneralInfo']['DateEnd']\n",
    "    pwc_code = json_file['GeneralInfo']['PWCcode']\n",
    "    #Количество списков товаров в файле\n",
    "    qty_goods_lists = len(json_file['Information']['GoodsLists'])\n",
    "    #Циклы для считывания данных из файла\n",
    "    for i in range(0, qty_goods_lists):\n",
    "            try:\n",
    "                #Проверка переменных на присутствие значений в файлах\n",
    "                if 'DiscountType' in json_file['Information']['GoodsLists'][i]:\n",
    "                    discount_type = json_file['Information']['GoodsLists'][i]['DiscountType']\n",
    "                else:\n",
    "                    discount_type = None\n",
    "                if 'DiscountValue' in json_file['Information']['GoodsLists'][i]:\n",
    "                    discount_value = json_file['Information']['GoodsLists'][i]['DiscountValue']\n",
    "                else:\n",
    "                    discount_value = None\n",
    "                if 'Value' in json_file['Information']['GoodsLists'][i]['PriceOptions'][0]:\n",
    "                    value = json_file['Information']['GoodsLists'][i]['PriceOptions'][0]['Value']\n",
    "                else:\n",
    "                    value = None\n",
    "                if 'FirstValue' in json_file['Information']['GoodsLists'][i]['PriceOptions'][0]:\n",
    "                    first_value = json_file['Information']['GoodsLists'][i]['PriceOptions'][0]['FirstValue']\n",
    "                else:\n",
    "                    first_value = None\n",
    "                if 'Operator' in json_file['Information']['GoodsLists'][i]['PriceOptions'][0]:\n",
    "                    less_or_equal = json_file['Information']['GoodsLists'][i]['PriceOptions'][0]['Operator']\n",
    "                else:\n",
    "                    less_or_equal = None\n",
    "            except TypeError:\n",
    "                pass\n",
    "            qty_prices = json_file['Information']['GoodsLists'][i]['QtyPrices']\n",
    "            for j in range(0,qty_prices):\n",
    "                qty_goods = json_file['Information']['GoodsLists'][i]['Prices'][j]['QtyGoods']\n",
    "                for k in range(0, qty_goods):\n",
    "                    result[\"Item\"].append(json_file['Information']['GoodsLists'][i]['Prices'][j]['Data'][k][0])\n",
    "                    result[\"SalePriceBeforePromo\"].append(json_file['Information']['GoodsLists'][i]['Prices'][j]['Data'][k][1])\n",
    "                    result[\"SalePriceTimePromo\"].append(json_file['Information']['GoodsLists'][i]['Prices'][j]['Data'][k][2])\n",
    "                    result[\"DatePriceBeforePromo\"].append(json_file['Information']['GoodsLists'][i]['Prices'][j]['Data'][k][3])\n",
    "                    result[\"ObjCode\"].append(json_file['Information']['GoodsLists'][i]['Prices'][j]['StoreCode'])\n",
    "                    result[\"DiscountType\"].append(discount_type)\n",
    "                    result[\"DiscountValue\"].append(discount_value)\n",
    "                    result[\"DateBegin\"].append(date_begin)\n",
    "                    result[\"DateEnd\"].append(date_end)\n",
    "                    result[\"PWCcode\"].append(pwc_code)\n",
    "                    result[\"Value\"].append(value)\n",
    "                    result[\"FirstValue\"].append(first_value)\n",
    "                    result[\"LessOrEqual\"].append(less_or_equal)\n",
    "                    result['File'].append(filename)\n",
    "    return result"
   ]
  },
  {
   "cell_type": "code",
   "execution_count": 3,
   "metadata": {
    "jupyter": {
     "outputs_hidden": false
    },
    "pycharm": {
     "name": "#%%\n"
    }
   },
   "outputs": [],
   "source": [
    "#Считаем текущую рабочую директорию\n",
    "directory = os.getcwd()\n",
    "\n",
    "#Сохраним список названий json файлов с информацией\n",
    "filenames = [f for f in os.listdir(directory+'/promo') if f.startswith('export')]\n",
    "\n",
    "#Создадим пустой словарь для хранения извлечённых значений\n",
    "parsed_files  = {}\n",
    "\n",
    "#Цикл для считывания всех файлов в директории 'promo'\n",
    "for filename in filenames:\n",
    "    file = './promo/' + filename\n",
    "    parse_promo_json(file_to_parse=file, result=parsed_files, filename=filename)"
   ]
  },
  {
   "cell_type": "code",
   "execution_count": 4,
   "metadata": {},
   "outputs": [],
   "source": [
    "#Создадим датафрейм из извлечённых данных\n",
    "df = pd.DataFrame.from_dict(parsed_files).fillna('None')\n",
    "#Сохраним датафрейм в формате .xlsx\n",
    "df.to_excel('./result.xlsx', sheet_name='Promo', index=False)"
   ]
  },
  {
   "cell_type": "code",
   "execution_count": 5,
   "outputs": [
    {
     "data": {
      "text/plain": "        Item  SalePriceBeforePromo  SalePriceTimePromo DatePriceBeforePromo  \\\n0     175164                  64.9                34.9  2021-01-28T00:00:00   \n1     175163                  62.9                34.9  2021-07-15T00:00:00   \n2  100487127                  62.9                34.9  2021-07-15T00:00:00   \n3  100122494                  62.9                34.9  2021-07-15T00:00:00   \n4  100357074                  62.9                34.9  2021-07-15T00:00:00   \n\n  ObjCode  DiscountType  DiscountValue            DateBegin  \\\n0    1303  PricePerUnit           34.9  2020-01-04T18:40:38   \n1    1303  PricePerUnit           34.9  2020-01-04T18:40:38   \n2    1303  PricePerUnit           34.9  2020-01-04T18:40:38   \n3    1303  PricePerUnit           34.9  2020-01-04T18:40:38   \n4    1303  PricePerUnit           34.9  2020-01-04T18:40:38   \n\n               DateEnd    PWCcode Value FirstValue  LessOrEqual  \\\n0  2020-01-08T23:59:00  000006632  None          2  MoreOrEqual   \n1  2020-01-08T23:59:00  000006632  None          2  MoreOrEqual   \n2  2020-01-08T23:59:00  000006632  None          2  MoreOrEqual   \n3  2020-01-08T23:59:00  000006632  None          2  MoreOrEqual   \n4  2020-01-08T23:59:00  000006632  None          2  MoreOrEqual   \n\n                                  File  \n0  export_20210913-1652_1223_6174.json  \n1  export_20210913-1652_1223_6174.json  \n2  export_20210913-1652_1223_6174.json  \n3  export_20210913-1652_1223_6174.json  \n4  export_20210913-1652_1223_6174.json  ",
      "text/html": "<div>\n<style scoped>\n    .dataframe tbody tr th:only-of-type {\n        vertical-align: middle;\n    }\n\n    .dataframe tbody tr th {\n        vertical-align: top;\n    }\n\n    .dataframe thead th {\n        text-align: right;\n    }\n</style>\n<table border=\"1\" class=\"dataframe\">\n  <thead>\n    <tr style=\"text-align: right;\">\n      <th></th>\n      <th>Item</th>\n      <th>SalePriceBeforePromo</th>\n      <th>SalePriceTimePromo</th>\n      <th>DatePriceBeforePromo</th>\n      <th>ObjCode</th>\n      <th>DiscountType</th>\n      <th>DiscountValue</th>\n      <th>DateBegin</th>\n      <th>DateEnd</th>\n      <th>PWCcode</th>\n      <th>Value</th>\n      <th>FirstValue</th>\n      <th>LessOrEqual</th>\n      <th>File</th>\n    </tr>\n  </thead>\n  <tbody>\n    <tr>\n      <th>0</th>\n      <td>175164</td>\n      <td>64.9</td>\n      <td>34.9</td>\n      <td>2021-01-28T00:00:00</td>\n      <td>1303</td>\n      <td>PricePerUnit</td>\n      <td>34.9</td>\n      <td>2020-01-04T18:40:38</td>\n      <td>2020-01-08T23:59:00</td>\n      <td>000006632</td>\n      <td>None</td>\n      <td>2</td>\n      <td>MoreOrEqual</td>\n      <td>export_20210913-1652_1223_6174.json</td>\n    </tr>\n    <tr>\n      <th>1</th>\n      <td>175163</td>\n      <td>62.9</td>\n      <td>34.9</td>\n      <td>2021-07-15T00:00:00</td>\n      <td>1303</td>\n      <td>PricePerUnit</td>\n      <td>34.9</td>\n      <td>2020-01-04T18:40:38</td>\n      <td>2020-01-08T23:59:00</td>\n      <td>000006632</td>\n      <td>None</td>\n      <td>2</td>\n      <td>MoreOrEqual</td>\n      <td>export_20210913-1652_1223_6174.json</td>\n    </tr>\n    <tr>\n      <th>2</th>\n      <td>100487127</td>\n      <td>62.9</td>\n      <td>34.9</td>\n      <td>2021-07-15T00:00:00</td>\n      <td>1303</td>\n      <td>PricePerUnit</td>\n      <td>34.9</td>\n      <td>2020-01-04T18:40:38</td>\n      <td>2020-01-08T23:59:00</td>\n      <td>000006632</td>\n      <td>None</td>\n      <td>2</td>\n      <td>MoreOrEqual</td>\n      <td>export_20210913-1652_1223_6174.json</td>\n    </tr>\n    <tr>\n      <th>3</th>\n      <td>100122494</td>\n      <td>62.9</td>\n      <td>34.9</td>\n      <td>2021-07-15T00:00:00</td>\n      <td>1303</td>\n      <td>PricePerUnit</td>\n      <td>34.9</td>\n      <td>2020-01-04T18:40:38</td>\n      <td>2020-01-08T23:59:00</td>\n      <td>000006632</td>\n      <td>None</td>\n      <td>2</td>\n      <td>MoreOrEqual</td>\n      <td>export_20210913-1652_1223_6174.json</td>\n    </tr>\n    <tr>\n      <th>4</th>\n      <td>100357074</td>\n      <td>62.9</td>\n      <td>34.9</td>\n      <td>2021-07-15T00:00:00</td>\n      <td>1303</td>\n      <td>PricePerUnit</td>\n      <td>34.9</td>\n      <td>2020-01-04T18:40:38</td>\n      <td>2020-01-08T23:59:00</td>\n      <td>000006632</td>\n      <td>None</td>\n      <td>2</td>\n      <td>MoreOrEqual</td>\n      <td>export_20210913-1652_1223_6174.json</td>\n    </tr>\n  </tbody>\n</table>\n</div>"
     },
     "execution_count": 5,
     "metadata": {},
     "output_type": "execute_result"
    }
   ],
   "source": [
    "df.head()"
   ],
   "metadata": {
    "collapsed": false,
    "pycharm": {
     "name": "#%%\n"
    }
   }
  },
  {
   "cell_type": "code",
   "execution_count": 6,
   "outputs": [
    {
     "name": "stdout",
     "output_type": "stream",
     "text": [
      "Количество извлечённых записей - 30534\n"
     ]
    }
   ],
   "source": [
    "print(f'Количество извлечённых записей - {df.shape[0]}')"
   ],
   "metadata": {
    "collapsed": false,
    "pycharm": {
     "name": "#%%\n"
    }
   }
  }
 ],
 "metadata": {
  "kernelspec": {
   "name": "python385jvsc74a57bd0a3bb1222e9ecb5f9d09e6f27dbb647469e64c13905d71eae4ef59fde0f9d6a60",
   "language": "python",
   "display_name": "Python 3.8.5 64-bit ('anaconda3': virtualenv)"
  },
  "language_info": {
   "codemirror_mode": {
    "name": "ipython",
    "version": 3
   },
   "file_extension": ".py",
   "mimetype": "text/x-python",
   "name": "python",
   "nbconvert_exporter": "python",
   "pygments_lexer": "ipython3",
   "version": "3.8.5"
  }
 },
 "nbformat": 4,
 "nbformat_minor": 4
}